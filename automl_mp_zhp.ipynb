{
 "cells": [
  {
   "cell_type": "markdown",
   "metadata": {},
   "source": [
    "# Automated ML\n",
    "\n",
    "TODO: Import Dependencies. In the cell below, import all the dependencies that you will need to complete the project."
   ]
  },
  {
   "cell_type": "code",
   "execution_count": 1,
   "metadata": {
    "gather": {
     "logged": 1640154117415
    },
    "jupyter": {
     "outputs_hidden": false,
     "source_hidden": false
    },
    "nteract": {
     "transient": {
      "deleting": false
     }
    }
   },
   "outputs": [
    {
     "name": "stderr",
     "output_type": "stream",
     "text": [
      "2021-12-22:06:21:51,966 INFO     [modeling_bert.py:226] Better speed can be achieved with apex installed from https://www.github.com/nvidia/apex .\n",
      "2021-12-22:06:21:51,997 INFO     [modeling_xlnet.py:339] Better speed can be achieved with apex installed from https://www.github.com/nvidia/apex .\n"
     ]
    },
    {
     "name": "stdout",
     "output_type": "stream",
     "text": [
      "SDK version: 1.36.0\n"
     ]
    }
   ],
   "source": [
    "import os\n",
    "import sys\n",
    "import numpy as np\n",
    "import pandas as pd\n",
    "import json\n",
    "\n",
    "import azureml.core\n",
    "from azureml.core.experiment import Experiment\n",
    "from azureml.core.workspace import Workspace\n",
    "from azureml.core.compute import ComputeTarget, AmlCompute\n",
    "from azureml.train.automl import AutoMLConfig\n",
    "from azureml.core.dataset import Dataset\n",
    "\n",
    "from azureml.pipeline.steps import AutoMLStep\n",
    "from azureml.widgets import RunDetails\n",
    "from azureml.automl.runtime.onnx_convert import OnnxConverter\n",
    "\n",
    "from azureml.core.model import InferenceConfig\n",
    "from azureml.core.webservice import AciWebservice\n",
    "from azureml.core.model import Model\n",
    "import urllib.request\n",
    "\n",
    "# Check core SDK version number\n",
    "print(\"SDK version:\", azureml.core.VERSION)"
   ]
  },
  {
   "cell_type": "markdown",
   "metadata": {},
   "source": [
    "## Dataset\n",
    "\n",
    "### Overview\n",
    "TODO: In this markdown cell, give an overview of the dataset you are using. Also mention the task you will be performing.\n",
    "\n",
    "The dataset is external and comes from the book \"Rejection of Emerging Organic Contaminants by Nanofiltration and Reverse Osmosis Membranes: Effects of Fouling, Modelling and Water Reuse\" [data link](http://desalination-delft.nl/wp-content/uploads/2018/06/Yangali-2010-Yangali.pdf). In water treatment, some special membranes are used to remove micropollutants (MP). MPs are ubiquitous\n",
    "contaminants present in the environment (soil, water) in concentrations of µg/L or ng/L. MPs can be pharmaceutical products,\n",
    "endocrine disruptor compounds, pesticides, herbicides, and other man-made organic contaminants.\n",
    "The dataset contains data about MPs and their removal rates (rejection) by different types of membranes. The data also contains some parameters\n",
    "used to characterise membranes of the type nanofiltration and reverse osmosis.\n",
    "\n",
    "TODO: Get data. In the cells below, write code to access the data you will be using in this project. Remember that the dataset needs to be external."
   ]
  },
  {
   "cell_type": "code",
   "execution_count": 9,
   "metadata": {
    "gather": {
     "logged": 1640154336079
    },
    "jupyter": {
     "outputs_hidden": false,
     "source_hidden": false
    },
    "nteract": {
     "transient": {
      "deleting": false
     }
    }
   },
   "outputs": [
    {
     "name": "stderr",
     "output_type": "stream",
     "text": [
      "2021-12-22:06:25:34,961 INFO     [workspace.py:290] Found the config file in: /config.json\n"
     ]
    }
   ],
   "source": [
    "ws = Workspace.from_config()\n",
    "\n",
    "# choose a name for experiment\n",
    "experiment_name = 'micropol-rej'\n",
    "project_folder = './micropol-project'\n",
    "experiment=Experiment(ws, experiment_name)\n"
   ]
  },
  {
   "cell_type": "markdown",
   "metadata": {},
   "source": [
    "In the next two cells, data is uploaded to the datastore of the workspace. Then the data is registered as a dataset that can be called for further use."
   ]
  },
  {
   "cell_type": "code",
   "execution_count": 6,
   "metadata": {
    "gather": {
     "logged": 1640154271688
    },
    "jupyter": {
     "outputs_hidden": false,
     "source_hidden": false
    },
    "nteract": {
     "transient": {
      "deleting": false
     }
    }
   },
   "outputs": [
    {
     "name": "stderr",
     "output_type": "stream",
     "text": [
      "2021-12-22:06:24:29,907 INFO     [datastore_client.py:908] <azureml.core.authentication.InteractiveLoginAuthentication object at 0x7efd4a74a748>\n",
      "2021-12-22:06:24:30,377 INFO     [azure_storage_datastore.py:754] Called AzureBlobDatastore.upload\n",
      "2021-12-22:06:24:30,403 INFO     [azure_storage_datastore.py:352] Uploading an estimated of 3 files\n",
      "2021-12-22:06:24:30,655 INFO     [azure_storage_datastore.py:352] Uploading ./data/.amlignore\n",
      "2021-12-22:06:24:30,656 INFO     [azure_storage_datastore.py:352] Uploaded ./data/.amlignore, 1 files out of an estimated total of 3\n",
      "2021-12-22:06:24:30,657 INFO     [azure_storage_datastore.py:352] Uploading ./data/.amlignore.amltmp\n",
      "2021-12-22:06:24:30,657 INFO     [azure_storage_datastore.py:352] Uploaded ./data/.amlignore.amltmp, 2 files out of an estimated total of 3\n",
      "2021-12-22:06:24:30,658 INFO     [azure_storage_datastore.py:352] Uploading ./data/micropol-removal.csv\n",
      "2021-12-22:06:24:30,658 INFO     [azure_storage_datastore.py:352] Uploaded ./data/micropol-removal.csv, 3 files out of an estimated total of 3\n",
      "2021-12-22:06:24:30,659 INFO     [azure_storage_datastore.py:352] Uploaded 3 files\n",
      "2021-12-22:06:24:30,659 INFO     [azure_storage_datastore.py:764] Finished AzureBlobDatastore.upload with count=3.\n"
     ]
    },
    {
     "name": "stdout",
     "output_type": "stream",
     "text": [
      "Uploading an estimated of 3 files\n",
      "Uploading ./data/.amlignore\n",
      "Uploaded ./data/.amlignore, 1 files out of an estimated total of 3\n",
      "Uploading ./data/.amlignore.amltmp\n",
      "Uploaded ./data/.amlignore.amltmp, 2 files out of an estimated total of 3\n",
      "Uploading ./data/micropol-removal.csv\n",
      "Uploaded ./data/micropol-removal.csv, 3 files out of an estimated total of 3\n",
      "Uploaded 3 files\n"
     ]
    },
    {
     "data": {
      "text/plain": [
       "$AZUREML_DATAREFERENCE_35c053976a294a8a92030b00f04c7116"
      ]
     },
     "execution_count": 6,
     "metadata": {},
     "output_type": "execute_result"
    }
   ],
   "source": [
    "datastore = ws.get_default_datastore()\n",
    "\n",
    "user_path = os.path.abspath(os.path.join('..'))\n",
    "if user_path not in sys.path:\n",
    "    sys.path.append(user_path + '/odl_user_167740/')\n",
    "datastore.upload(src_dir='./data',\n",
    "                 target_path='datasets/mpNFRO',\n",
    "                 overwrite=True)\n"
   ]
  },
  {
   "cell_type": "code",
   "execution_count": 4,
   "metadata": {
    "gather": {
     "logged": 1640154172541
    },
    "jupyter": {
     "outputs_hidden": false,
     "source_hidden": false
    },
    "nteract": {
     "transient": {
      "deleting": false
     }
    }
   },
   "outputs": [
    {
     "data": {
      "text/html": [
       "<div>\n",
       "<style scoped>\n",
       "    .dataframe tbody tr th:only-of-type {\n",
       "        vertical-align: middle;\n",
       "    }\n",
       "\n",
       "    .dataframe tbody tr th {\n",
       "        vertical-align: top;\n",
       "    }\n",
       "\n",
       "    .dataframe thead th {\n",
       "        text-align: right;\n",
       "    }\n",
       "</style>\n",
       "<table border=\"1\" class=\"dataframe\">\n",
       "  <thead>\n",
       "    <tr style=\"text-align: right;\">\n",
       "      <th></th>\n",
       "      <th>MW</th>\n",
       "      <th>log_Kow</th>\n",
       "      <th>log_D</th>\n",
       "      <th>dipole</th>\n",
       "      <th>MV</th>\n",
       "      <th>length</th>\n",
       "      <th>width</th>\n",
       "      <th>depth</th>\n",
       "      <th>eq_width</th>\n",
       "      <th>MWCO</th>\n",
       "      <th>SR</th>\n",
       "      <th>rejection</th>\n",
       "    </tr>\n",
       "  </thead>\n",
       "  <tbody>\n",
       "    <tr>\n",
       "      <th>count</th>\n",
       "      <td>161.00</td>\n",
       "      <td>161.00</td>\n",
       "      <td>161.00</td>\n",
       "      <td>161.00</td>\n",
       "      <td>161.00</td>\n",
       "      <td>161.00</td>\n",
       "      <td>161.00</td>\n",
       "      <td>161.00</td>\n",
       "      <td>161.00</td>\n",
       "      <td>161.00</td>\n",
       "      <td>161.00</td>\n",
       "      <td>161.00</td>\n",
       "    </tr>\n",
       "    <tr>\n",
       "      <th>mean</th>\n",
       "      <td>185.27</td>\n",
       "      <td>1.69</td>\n",
       "      <td>1.53</td>\n",
       "      <td>2.38</td>\n",
       "      <td>142.78</td>\n",
       "      <td>1.06</td>\n",
       "      <td>0.75</td>\n",
       "      <td>0.54</td>\n",
       "      <td>0.63</td>\n",
       "      <td>199.84</td>\n",
       "      <td>0.98</td>\n",
       "      <td>68.95</td>\n",
       "    </tr>\n",
       "    <tr>\n",
       "      <th>std</th>\n",
       "      <td>72.53</td>\n",
       "      <td>1.86</td>\n",
       "      <td>2.03</td>\n",
       "      <td>1.73</td>\n",
       "      <td>55.15</td>\n",
       "      <td>0.33</td>\n",
       "      <td>0.15</td>\n",
       "      <td>0.11</td>\n",
       "      <td>0.11</td>\n",
       "      <td>60.76</td>\n",
       "      <td>0.01</td>\n",
       "      <td>27.97</td>\n",
       "    </tr>\n",
       "    <tr>\n",
       "      <th>min</th>\n",
       "      <td>30.03</td>\n",
       "      <td>-3.24</td>\n",
       "      <td>-3.24</td>\n",
       "      <td>-1.68</td>\n",
       "      <td>43.50</td>\n",
       "      <td>0.47</td>\n",
       "      <td>0.43</td>\n",
       "      <td>0.34</td>\n",
       "      <td>0.38</td>\n",
       "      <td>100.00</td>\n",
       "      <td>0.96</td>\n",
       "      <td>1.00</td>\n",
       "    </tr>\n",
       "    <tr>\n",
       "      <th>25%</th>\n",
       "      <td>154.00</td>\n",
       "      <td>0.35</td>\n",
       "      <td>-0.27</td>\n",
       "      <td>1.02</td>\n",
       "      <td>99.40</td>\n",
       "      <td>0.78</td>\n",
       "      <td>0.64</td>\n",
       "      <td>0.45</td>\n",
       "      <td>0.54</td>\n",
       "      <td>175.00</td>\n",
       "      <td>0.97</td>\n",
       "      <td>52.00</td>\n",
       "    </tr>\n",
       "    <tr>\n",
       "      <th>50%</th>\n",
       "      <td>194.19</td>\n",
       "      <td>1.97</td>\n",
       "      <td>1.68</td>\n",
       "      <td>2.23</td>\n",
       "      <td>151.90</td>\n",
       "      <td>1.12</td>\n",
       "      <td>0.78</td>\n",
       "      <td>0.56</td>\n",
       "      <td>0.66</td>\n",
       "      <td>200.00</td>\n",
       "      <td>0.98</td>\n",
       "      <td>78.80</td>\n",
       "    </tr>\n",
       "    <tr>\n",
       "      <th>75%</th>\n",
       "      <td>233.10</td>\n",
       "      <td>3.06</td>\n",
       "      <td>3.01</td>\n",
       "      <td>3.71</td>\n",
       "      <td>186.50</td>\n",
       "      <td>1.27</td>\n",
       "      <td>0.86</td>\n",
       "      <td>0.59</td>\n",
       "      <td>0.73</td>\n",
       "      <td>200.00</td>\n",
       "      <td>0.98</td>\n",
       "      <td>90.80</td>\n",
       "    </tr>\n",
       "    <tr>\n",
       "      <th>max</th>\n",
       "      <td>332.00</td>\n",
       "      <td>5.71</td>\n",
       "      <td>5.88</td>\n",
       "      <td>6.30</td>\n",
       "      <td>236.20</td>\n",
       "      <td>1.79</td>\n",
       "      <td>1.00</td>\n",
       "      <td>0.75</td>\n",
       "      <td>0.81</td>\n",
       "      <td>300.00</td>\n",
       "      <td>1.00</td>\n",
       "      <td>98.60</td>\n",
       "    </tr>\n",
       "  </tbody>\n",
       "</table>\n",
       "</div>"
      ],
      "text/plain": [
       "          MW  log_Kow  log_D  dipole     MV  length  width  depth  eq_width  \\\n",
       "count 161.00   161.00 161.00  161.00 161.00  161.00 161.00 161.00    161.00   \n",
       "mean  185.27     1.69   1.53    2.38 142.78    1.06   0.75   0.54      0.63   \n",
       "std    72.53     1.86   2.03    1.73  55.15    0.33   0.15   0.11      0.11   \n",
       "min    30.03    -3.24  -3.24   -1.68  43.50    0.47   0.43   0.34      0.38   \n",
       "25%   154.00     0.35  -0.27    1.02  99.40    0.78   0.64   0.45      0.54   \n",
       "50%   194.19     1.97   1.68    2.23 151.90    1.12   0.78   0.56      0.66   \n",
       "75%   233.10     3.06   3.01    3.71 186.50    1.27   0.86   0.59      0.73   \n",
       "max   332.00     5.71   5.88    6.30 236.20    1.79   1.00   0.75      0.81   \n",
       "\n",
       "        MWCO     SR  rejection  \n",
       "count 161.00 161.00     161.00  \n",
       "mean  199.84   0.98      68.95  \n",
       "std    60.76   0.01      27.97  \n",
       "min   100.00   0.96       1.00  \n",
       "25%   175.00   0.97      52.00  \n",
       "50%   200.00   0.98      78.80  \n",
       "75%   200.00   0.98      90.80  \n",
       "max   300.00   1.00      98.60  "
      ]
     },
     "execution_count": 4,
     "metadata": {},
     "output_type": "execute_result"
    }
   ],
   "source": [
    "# The dataset is loaded from the Workspace. Otherwise, it is created in the workspace from the csv file uploaded in the previous cell\n",
    "# NOTE: update the key to match the dataset name\n",
    "found = False\n",
    "key = \"micro-rej\"\n",
    "description_text = \"Rejection of micropollutants by membranes in water treatment\"\n",
    "\n",
    "if key in ws.datasets.keys(): \n",
    "        found = True\n",
    "        dataset = ws.datasets[key] \n",
    "\n",
    "if not found:\n",
    "        # Create AML Dataset and register it into Workspace\n",
    "        # data_path = path=(datastore, 'datasets/mpNFRO/micropol-removal.csv')\n",
    "        dataset = Dataset.Tabular.from_delimited_files(path=(datastore, 'datasets/mpNFRO/micropol-removal.csv'))        \n",
    "        #Register Dataset in Workspace\n",
    "        dataset = dataset.register(workspace=ws,\n",
    "                                   name=key,\n",
    "                                   description=description_text)\n",
    "\n",
    "\n",
    "df = dataset.to_pandas_dataframe()\n",
    "df.describe()"
   ]
  },
  {
   "cell_type": "code",
   "execution_count": 5,
   "metadata": {
    "gather": {
     "logged": 1640154206104
    },
    "jupyter": {
     "outputs_hidden": false,
     "source_hidden": false
    },
    "nteract": {
     "transient": {
      "deleting": false
     }
    }
   },
   "outputs": [
    {
     "name": "stdout",
     "output_type": "stream",
     "text": [
      "InProgress.....\n",
      "SucceededProvisioning operation finished, operation \"Succeeded\"\n",
      "Succeeded\n",
      "AmlCompute wait for completion finished\n",
      "\n",
      "Minimum number of nodes requested have been provisioned\n"
     ]
    }
   ],
   "source": [
    "# Create compute cluster\n",
    "\n",
    "computer_cluster = \"cpucluster\"\n",
    "\n",
    "computer_config = AmlCompute.provisioning_configuration(vm_size='STANDARD_DS3_V2',\n",
    "                                                        min_nodes=0, \n",
    "                                                        max_nodes=2)\n",
    "cluster_name = ComputeTarget.create(ws, computer_cluster, computer_config)\n",
    "\n",
    "cluster_name.wait_for_completion(show_output=True)"
   ]
  },
  {
   "cell_type": "markdown",
   "metadata": {},
   "source": [
    "## AutoML Configuration\n",
    "\n",
    "TODO: Explain why you chose the automl settings and cofiguration you used below.\n",
    "\n",
    "Setting of the automl were chosen based on the task. The data contains non-categorical and categorical data, so featurization is specified as true. Featurization will also normalize the data. \n",
    "Since the target (rejection) is a real, we want to evaluate the accuracy of the model with the coefficient of determination R². The data is small, so 15 minutes as experiment timeout is good enough.\n",
    "The number of cross validations as 5 is also reasonable.\n",
    "The option to get compatible ONNX models is set to True for later saving models in onnx format."
   ]
  },
  {
   "cell_type": "code",
   "execution_count": 10,
   "metadata": {
    "gather": {
     "logged": 1640154356400
    },
    "jupyter": {
     "outputs_hidden": false,
     "source_hidden": false
    },
    "nteract": {
     "transient": {
      "deleting": false
     }
    }
   },
   "outputs": [],
   "source": [
    "# TODO: Put your automl settings here\n",
    "\n",
    "automl_settings = {    \n",
    "    \"experiment_timeout_hours\": 0.25,\n",
    "    \"enable_early_stopping\": True,\n",
    "    \"primary_metric\": 'r2_score',\n",
    "    \"featurization\": 'auto',\n",
    "    \"n_cross_validations\": 5\n",
    "}\n",
    "\n",
    "# TODO: Put your automl config here\n",
    "\n",
    "automl_config = AutoMLConfig(compute_target=\"cpucluster\",\n",
    "                             task = \"regression\",\n",
    "                             training_data=dataset,\n",
    "                             label_column_name=\"rejection\",  \n",
    "                             path = project_folder,\n",
    "                             debug_log = \"automl_errors.log\",\n",
    "                             enable_onnx_compatible_models = True,\n",
    "                             **automl_settings\n",
    "                            )\n",
    "\n"
   ]
  },
  {
   "cell_type": "code",
   "execution_count": 11,
   "metadata": {
    "gather": {
     "logged": 1640155675507
    },
    "jupyter": {
     "outputs_hidden": false,
     "source_hidden": false
    },
    "nteract": {
     "transient": {
      "deleting": false
     }
    }
   },
   "outputs": [
    {
     "name": "stdout",
     "output_type": "stream",
     "text": [
      "Submitting remote run.\n",
      "No run_configuration provided, running on cpucluster with default configuration\n",
      "Running on remote compute: cpucluster\n"
     ]
    },
    {
     "data": {
      "text/html": [
       "<table style=\"width:100%\"><tr><th>Experiment</th><th>Id</th><th>Type</th><th>Status</th><th>Details Page</th><th>Docs Page</th></tr><tr><td>micropol-rej</td><td>AutoML_35da29c5-8b10-42ba-8f8b-e7e49eaccd8a</td><td>automl</td><td>NotStarted</td><td><a href=\"https://ml.azure.com/runs/AutoML_35da29c5-8b10-42ba-8f8b-e7e49eaccd8a?wsid=/subscriptions/610d6e37-4747-4a20-80eb-3aad70a55f43/resourcegroups/aml-quickstarts-167740/workspaces/quick-starts-ws-167740&amp;tid=660b3398-b80e-49d2-bc5b-ac1dc93b5254\" target=\"_blank\" rel=\"noopener\">Link to Azure Machine Learning studio</a></td><td><a href=\"https://docs.microsoft.com/en-us/python/api/overview/azure/ml/intro?view=azure-ml-py\" target=\"_blank\" rel=\"noopener\">Link to Documentation</a></td></tr></table>"
      ],
      "text/plain": [
       "<IPython.core.display.HTML object>"
      ]
     },
     "metadata": {},
     "output_type": "display_data"
    },
    {
     "name": "stdout",
     "output_type": "stream",
     "text": [
      "\n",
      "Current status: FeaturesGeneration. Generating features for the dataset.\n",
      "Current status: DatasetFeaturization. Beginning to fit featurizers and featurize the dataset.\n",
      "Current status: DatasetCrossValidationSplit. Generating individually featurized CV splits.\n",
      "Current status: ModelSelection. Beginning model selection.\n",
      "\n",
      "****************************************************************************************************\n",
      "DATA GUARDRAILS: \n",
      "\n",
      "TYPE:         Missing feature values imputation\n",
      "STATUS:       PASSED\n",
      "DESCRIPTION:  No feature missing values were detected in the training data.\n",
      "              Learn more about missing value imputation: https://aka.ms/AutomatedMLFeaturization\n",
      "\n",
      "****************************************************************************************************\n",
      "\n",
      "TYPE:         High cardinality feature detection\n",
      "STATUS:       PASSED\n",
      "DESCRIPTION:  Your inputs were analyzed, and no high cardinality features were detected.\n",
      "              Learn more about high cardinality feature handling: https://aka.ms/AutomatedMLFeaturization\n",
      "\n",
      "****************************************************************************************************\n",
      "\n",
      "****************************************************************************************************\n",
      "ITERATION: The iteration being evaluated.\n",
      "PIPELINE: A summary description of the pipeline being evaluated.\n",
      "DURATION: Time taken for the current iteration.\n",
      "METRIC: The result of computing score on the fitted pipeline.\n",
      "BEST: The best observed score thus far.\n",
      "****************************************************************************************************\n",
      "\n",
      " ITERATION   PIPELINE                                       DURATION      METRIC      BEST\n",
      "         0   MaxAbsScaler LightGBM                          0:00:27       0.8721    0.8721\n",
      "         1   MaxAbsScaler XGBoostRegressor                  0:00:37       0.8924    0.8924\n",
      "         2   StandardScalerWrapper XGBoostRegressor         0:01:25       0.8859    0.8924\n",
      "         3   MaxAbsScaler ElasticNet                        0:00:31       0.6976    0.8924\n",
      "         4   MaxAbsScaler LightGBM                          0:01:24       0.8751    0.8924\n",
      "         5   SparseNormalizer XGBoostRegressor              0:00:32       0.8102    0.8924\n",
      "         6   MaxAbsScaler RandomForest                      0:01:24       0.8855    0.8924\n",
      "         7   MaxAbsScaler RandomForest                      0:00:32       0.8425    0.8924\n",
      "         8   StandardScalerWrapper ExtremeRandomTrees       0:01:33       0.8328    0.8924\n",
      "         9   SparseNormalizer XGBoostRegressor              0:00:28       0.8074    0.8924\n",
      "        10   MaxAbsScaler ExtremeRandomTrees                0:01:24       0.8836    0.8924\n",
      "        11   MaxAbsScaler ElasticNet                        0:00:35       0.7592    0.8924\n",
      "        12   SparseNormalizer XGBoostRegressor              0:01:22       0.8124    0.8924\n",
      "        13   MaxAbsScaler RandomForest                      0:00:37       0.8362    0.8924\n",
      "        14   StandardScalerWrapper XGBoostRegressor         0:01:16       0.8762    0.8924\n",
      "        15   StandardScalerWrapper ElasticNet               0:00:33       0.7015    0.8924\n",
      "        16    VotingEnsemble                                0:01:31       0.9036    0.9036\n"
     ]
    }
   ],
   "source": [
    "# TODO: Submit your experiment\n",
    "remote_run = experiment.submit(automl_config, show_output=True)"
   ]
  },
  {
   "cell_type": "markdown",
   "metadata": {},
   "source": [
    "## Run Details\n",
    "\n",
    "OPTIONAL: Write about the different models trained and their performance. Why do you think some models did better than others?\n",
    "\n",
    "The regressors LightGBM and XGBoostRegressor did a quite decent job with R² 0.87 and 0.89, respectively. This models did better because the data normalization with MaxAbsScaler helped in delivering the right values to the models. It is also expected that VotingEnsemble and StackEnsemble improved to a certain degree the quality of predictions, since those models are the result of agregating the results of different models.\n",
    "\n",
    "TODO: In the cell below, use the `RunDetails` widget to show the different experiments."
   ]
  },
  {
   "cell_type": "code",
   "execution_count": 12,
   "metadata": {
    "gather": {
     "logged": 1640155676450
    },
    "jupyter": {
     "outputs_hidden": false,
     "source_hidden": false
    },
    "nteract": {
     "transient": {
      "deleting": false
     }
    }
   },
   "outputs": [
    {
     "data": {
      "application/vnd.jupyter.widget-view+json": {
       "model_id": "cdbb79d9d87544eca2a4bc93caa65d4b",
       "version_major": 2,
       "version_minor": 0
      },
      "text/plain": [
       "_AutoMLWidget(widget_settings={'childWidgetDisplay': 'popup', 'send_telemetry': False, 'log_level': 'INFO', 's…"
      ]
     },
     "metadata": {},
     "output_type": "display_data"
    },
    {
     "data": {
      "application/aml.mini.widget.v1": "{\"status\": \"Completed\", \"workbench_run_details_uri\": \"https://ml.azure.com/runs/AutoML_35da29c5-8b10-42ba-8f8b-e7e49eaccd8a?wsid=/subscriptions/610d6e37-4747-4a20-80eb-3aad70a55f43/resourcegroups/aml-quickstarts-167740/workspaces/quick-starts-ws-167740&tid=660b3398-b80e-49d2-bc5b-ac1dc93b5254\", \"run_id\": \"AutoML_35da29c5-8b10-42ba-8f8b-e7e49eaccd8a\", \"run_properties\": {\"run_id\": \"AutoML_35da29c5-8b10-42ba-8f8b-e7e49eaccd8a\", \"created_utc\": \"2021-12-22T06:26:22.486406Z\", \"properties\": {\"num_iterations\": \"1000\", \"training_type\": \"TrainFull\", \"acquisition_function\": \"EI\", \"primary_metric\": \"r2_score\", \"train_split\": \"0\", \"acquisition_parameter\": \"0\", \"num_cross_validation\": \"5\", \"target\": \"cpucluster\", \"AMLSettingsJsonString\": \"{\\\"path\\\":null,\\\"name\\\":\\\"micropol-rej\\\",\\\"subscription_id\\\":\\\"610d6e37-4747-4a20-80eb-3aad70a55f43\\\",\\\"resource_group\\\":\\\"aml-quickstarts-167740\\\",\\\"workspace_name\\\":\\\"quick-starts-ws-167740\\\",\\\"region\\\":\\\"southcentralus\\\",\\\"compute_target\\\":\\\"cpucluster\\\",\\\"spark_service\\\":null,\\\"azure_service\\\":\\\"remote\\\",\\\"many_models\\\":false,\\\"pipeline_fetch_max_batch_size\\\":1,\\\"enable_batch_run\\\":false,\\\"enable_run_restructure\\\":false,\\\"start_auxiliary_runs_before_parent_complete\\\":false,\\\"enable_code_generation\\\":false,\\\"iterations\\\":1000,\\\"primary_metric\\\":\\\"r2_score\\\",\\\"task_type\\\":\\\"regression\\\",\\\"positive_label\\\":null,\\\"data_script\\\":null,\\\"test_size\\\":0.0,\\\"test_include_predictions_only\\\":false,\\\"validation_size\\\":0.0,\\\"n_cross_validations\\\":5,\\\"y_min\\\":null,\\\"y_max\\\":null,\\\"num_classes\\\":null,\\\"featurization\\\":\\\"auto\\\",\\\"_ignore_package_version_incompatibilities\\\":false,\\\"is_timeseries\\\":false,\\\"max_cores_per_iteration\\\":1,\\\"max_concurrent_iterations\\\":1,\\\"iteration_timeout_minutes\\\":null,\\\"mem_in_mb\\\":null,\\\"enforce_time_on_windows\\\":false,\\\"experiment_timeout_minutes\\\":15,\\\"experiment_exit_score\\\":null,\\\"whitelist_models\\\":null,\\\"blacklist_algos\\\":[\\\"TensorFlowDNN\\\",\\\"TensorFlowLinearRegressor\\\"],\\\"supported_models\\\":[\\\"ElasticNet\\\",\\\"TensorFlowDNN\\\",\\\"FastLinearRegressor\\\",\\\"TensorFlowLinearRegressor\\\",\\\"SGD\\\",\\\"RandomForest\\\",\\\"OnlineGradientDescentRegressor\\\",\\\"LassoLars\\\",\\\"XGBoostRegressor\\\",\\\"KNN\\\",\\\"DecisionTree\\\",\\\"ExtremeRandomTrees\\\",\\\"GradientBoosting\\\",\\\"LightGBM\\\"],\\\"private_models\\\":[\\\"TabnetRegressor\\\"],\\\"auto_blacklist\\\":true,\\\"blacklist_samples_reached\\\":false,\\\"exclude_nan_labels\\\":true,\\\"verbosity\\\":20,\\\"_debug_log\\\":\\\"azureml_automl.log\\\",\\\"show_warnings\\\":false,\\\"model_explainability\\\":true,\\\"service_url\\\":null,\\\"sdk_url\\\":null,\\\"sdk_packages\\\":null,\\\"enable_onnx_compatible_models\\\":true,\\\"enable_split_onnx_featurizer_estimator_models\\\":false,\\\"vm_type\\\":\\\"STANDARD_DS3_V2\\\",\\\"telemetry_verbosity\\\":20,\\\"send_telemetry\\\":true,\\\"enable_dnn\\\":false,\\\"scenario\\\":\\\"SDK-1.13.0\\\",\\\"environment_label\\\":null,\\\"save_mlflow\\\":false,\\\"enable_categorical_indicators\\\":false,\\\"force_text_dnn\\\":false,\\\"enable_feature_sweeping\\\":false,\\\"enable_early_stopping\\\":true,\\\"early_stopping_n_iters\\\":10,\\\"arguments\\\":null,\\\"dataset_id\\\":null,\\\"hyperdrive_config\\\":null,\\\"validation_dataset_id\\\":null,\\\"run_source\\\":null,\\\"metrics\\\":null,\\\"enable_metric_confidence\\\":false,\\\"enable_ensembling\\\":true,\\\"enable_stack_ensembling\\\":false,\\\"ensemble_iterations\\\":15,\\\"enable_tf\\\":false,\\\"enable_subsampling\\\":null,\\\"subsample_seed\\\":null,\\\"enable_nimbusml\\\":false,\\\"enable_streaming\\\":false,\\\"force_streaming\\\":false,\\\"track_child_runs\\\":true,\\\"allowed_private_models\\\":[],\\\"label_column_name\\\":\\\"rejection\\\",\\\"weight_column_name\\\":null,\\\"cv_split_column_names\\\":null,\\\"enable_local_managed\\\":false,\\\"_local_managed_run_id\\\":null,\\\"cost_mode\\\":1,\\\"lag_length\\\":0,\\\"metric_operation\\\":\\\"maximize\\\",\\\"preprocess\\\":true}\", \"DataPrepJsonString\": \"{\\\\\\\"training_data\\\\\\\": {\\\\\\\"datasetId\\\\\\\": \\\\\\\"477d1c73-cdd7-4fa5-8579-06198842933d\\\\\\\"}, \\\\\\\"datasets\\\\\\\": 0}\", \"EnableSubsampling\": null, \"runTemplate\": \"AutoML\", \"azureml.runsource\": \"automl\", \"display_task_type\": \"regression\", \"dependencies_versions\": \"{\\\"azureml-widgets\\\": \\\"1.36.0\\\", \\\"azureml-train\\\": \\\"1.36.0\\\", \\\"azureml-train-restclients-hyperdrive\\\": \\\"1.36.0\\\", \\\"azureml-train-core\\\": \\\"1.36.0\\\", \\\"azureml-train-automl\\\": \\\"1.36.0\\\", \\\"azureml-train-automl-runtime\\\": \\\"1.36.0\\\", \\\"azureml-train-automl-client\\\": \\\"1.36.0\\\", \\\"azureml-tensorboard\\\": \\\"1.36.0\\\", \\\"azureml-telemetry\\\": \\\"1.36.0\\\", \\\"azureml-sdk\\\": \\\"1.36.0\\\", \\\"azureml-samples\\\": \\\"0+unknown\\\", \\\"azureml-responsibleai\\\": \\\"1.36.0\\\", \\\"azureml-pipeline\\\": \\\"1.36.0\\\", \\\"azureml-pipeline-steps\\\": \\\"1.36.0\\\", \\\"azureml-pipeline-core\\\": \\\"1.36.0\\\", \\\"azureml-opendatasets\\\": \\\"1.36.0\\\", \\\"azureml-mlflow\\\": \\\"1.36.0\\\", \\\"azureml-interpret\\\": \\\"1.36.0\\\", \\\"azureml-inference-server-http\\\": \\\"0.4.1\\\", \\\"azureml-explain-model\\\": \\\"1.36.0\\\", \\\"azureml-defaults\\\": \\\"1.36.0\\\", \\\"azureml-dataset-runtime\\\": \\\"1.36.0\\\", \\\"azureml-dataprep\\\": \\\"2.24.4\\\", \\\"azureml-dataprep-rslex\\\": \\\"2.0.3\\\", \\\"azureml-dataprep-native\\\": \\\"38.0.0\\\", \\\"azureml-datadrift\\\": \\\"1.36.0\\\", \\\"azureml-core\\\": \\\"1.36.0.post2\\\", \\\"azureml-contrib-services\\\": \\\"1.36.0\\\", \\\"azureml-contrib-server\\\": \\\"1.36.0\\\", \\\"azureml-contrib-reinforcementlearning\\\": \\\"1.36.0\\\", \\\"azureml-contrib-pipeline-steps\\\": \\\"1.36.0\\\", \\\"azureml-contrib-notebook\\\": \\\"1.36.0\\\", \\\"azureml-contrib-fairness\\\": \\\"1.36.0\\\", \\\"azureml-contrib-dataset\\\": \\\"1.36.0\\\", \\\"azureml-contrib-automl-pipeline-steps\\\": \\\"1.36.0\\\", \\\"azureml-cli-common\\\": \\\"1.36.0\\\", \\\"azureml-automl-runtime\\\": \\\"1.36.0\\\", \\\"azureml-automl-dnn-nlp\\\": \\\"1.36.0\\\", \\\"azureml-automl-core\\\": \\\"1.36.0\\\", \\\"azureml-accel-models\\\": \\\"1.36.0\\\"}\", \"_aml_system_scenario_identification\": \"Remote.Parent\", \"ClientType\": \"SDK\", \"environment_cpu_name\": \"AzureML-AutoML\", \"environment_cpu_label\": \"prod\", \"environment_gpu_name\": \"AzureML-AutoML-GPU\", \"environment_gpu_label\": \"prod\", \"root_attribution\": \"automl\", \"attribution\": \"AutoML\", \"Orchestrator\": \"AutoML\", \"CancelUri\": \"https://southcentralus.api.azureml.ms/jasmine/v1.0/subscriptions/610d6e37-4747-4a20-80eb-3aad70a55f43/resourceGroups/aml-quickstarts-167740/providers/Microsoft.MachineLearningServices/workspaces/quick-starts-ws-167740/experimentids/052d6c68-6499-48cd-a35f-77fb20b6fee3/cancel/AutoML_35da29c5-8b10-42ba-8f8b-e7e49eaccd8a\", \"ClientSdkVersion\": \"1.36.1\", \"snapshotId\": \"00000000-0000-0000-0000-000000000000\", \"SetupRunId\": \"AutoML_35da29c5-8b10-42ba-8f8b-e7e49eaccd8a_setup\", \"SetupRunContainerId\": \"dcid.AutoML_35da29c5-8b10-42ba-8f8b-e7e49eaccd8a_setup\", \"FeaturizationRunJsonPath\": \"featurizer_container.json\", \"FeaturizationRunId\": \"AutoML_35da29c5-8b10-42ba-8f8b-e7e49eaccd8a_featurize\", \"ProblemInfoJsonString\": \"{\\\"dataset_num_categorical\\\": 0, \\\"is_sparse\\\": true, \\\"subsampling\\\": false, \\\"has_extra_col\\\": true, \\\"dataset_classes\\\": 119, \\\"dataset_features\\\": 96, \\\"dataset_samples\\\": 161, \\\"single_frequency_class_detected\\\": false}\", \"ModelExplainRunId\": \"AutoML_35da29c5-8b10-42ba-8f8b-e7e49eaccd8a_ModelExplain\"}, \"tags\": {\"model_explain_run\": \"best_run\", \"_aml_system_azureml.automlComponent\": \"AutoML\", \"pipeline_id\": \"\", \"score\": \"\", \"predicted_cost\": \"\", \"fit_time\": \"\", \"training_percent\": \"\", \"iteration\": \"\", \"run_preprocessor\": \"\", \"run_algorithm\": \"\", \"_aml_system_azureml.automl_early_exit_message\": \"Experiment timeout reached, hence experiment stopped. Current experiment timeout: 0 hour(s) 15 minute(s)\", \"automl_best_child_run_id\": \"AutoML_35da29c5-8b10-42ba-8f8b-e7e49eaccd8a_16\", \"model_explain_best_run_child_id\": \"AutoML_35da29c5-8b10-42ba-8f8b-e7e49eaccd8a_16\"}, \"end_time_utc\": \"2021-12-22T06:47:40.289223Z\", \"status\": \"Completed\", \"log_files\": {}, \"log_groups\": [], \"run_duration\": \"0:21:17\", \"run_number\": \"1\", \"run_queued_details\": {\"status\": \"Completed\", \"details\": null}}, \"child_runs\": [{\"run_id\": \"AutoML_35da29c5-8b10-42ba-8f8b-e7e49eaccd8a_setup\", \"run_number\": 2, \"metric\": null, \"status\": \"Completed\", \"run_type\": \"azureml.scriptrun\", \"training_percent\": null, \"start_time\": \"2021-12-22T06:28:41.550913Z\", \"end_time\": \"2021-12-22T06:29:28.226816Z\", \"created_time\": \"2021-12-22T06:26:36.225445Z\", \"created_time_dt\": \"2021-12-22T06:26:36.225445Z\", \"duration\": \"0:02:52\", \"iteration\": null, \"goal\": null, \"run_name\": \"Completed\", \"run_properties\": null}, {\"run_id\": \"AutoML_35da29c5-8b10-42ba-8f8b-e7e49eaccd8a_featurize\", \"run_number\": 3, \"metric\": null, \"status\": \"Completed\", \"run_type\": \"automl.featurization\", \"training_percent\": null, \"start_time\": \"2021-12-22T06:29:29.169292Z\", \"end_time\": \"2021-12-22T06:30:53.493381Z\", \"created_time\": \"2021-12-22T06:29:28.666415Z\", \"created_time_dt\": \"2021-12-22T06:29:28.666415Z\", \"duration\": \"0:01:24\", \"iteration\": null, \"goal\": null, \"run_name\": \"Completed\", \"run_properties\": null}, {\"run_id\": \"AutoML_35da29c5-8b10-42ba-8f8b-e7e49eaccd8a_0\", \"run_number\": 5, \"metric\": null, \"status\": \"Completed\", \"run_type\": \"azureml.scriptrun\", \"training_percent\": \"100\", \"start_time\": \"2021-12-22T06:30:54.188677Z\", \"end_time\": \"2021-12-22T06:31:21.441931Z\", \"created_time\": \"2021-12-22T06:30:54.188677Z\", \"created_time_dt\": \"2021-12-22T06:30:54.188677Z\", \"duration\": \"0:00:27\", \"iteration\": \"0\", \"goal\": \"r2_score_max\", \"run_name\": \"MaxAbsScaler, LightGBM\", \"run_properties\": \"copy=True\", \"primary_metric\": 0.87205511, \"best_metric\": 0.87205511}, {\"run_id\": \"AutoML_35da29c5-8b10-42ba-8f8b-e7e49eaccd8a_1\", \"run_number\": 6, \"metric\": null, \"status\": \"Completed\", \"run_type\": \"azureml.scriptrun\", \"training_percent\": \"100\", \"start_time\": \"2021-12-22T06:31:22.725909Z\", \"end_time\": \"2021-12-22T06:31:59.563667Z\", \"created_time\": \"2021-12-22T06:31:22.725909Z\", \"created_time_dt\": \"2021-12-22T06:31:22.725909Z\", \"duration\": \"0:00:36\", \"iteration\": \"1\", \"goal\": \"r2_score_max\", \"run_name\": \"MaxAbsScaler, XGBoostRegressor\", \"run_properties\": \"copy=True\", \"primary_metric\": 0.89242622, \"best_metric\": 0.89242622}, {\"run_id\": \"AutoML_35da29c5-8b10-42ba-8f8b-e7e49eaccd8a_2\", \"run_number\": 7, \"metric\": null, \"status\": \"Completed\", \"run_type\": \"azureml.scriptrun\", \"training_percent\": \"100\", \"start_time\": \"2021-12-22T06:32:01.067513Z\", \"end_time\": \"2021-12-22T06:33:25.826412Z\", \"created_time\": \"2021-12-22T06:32:01.067513Z\", \"created_time_dt\": \"2021-12-22T06:32:01.067513Z\", \"duration\": \"0:01:24\", \"iteration\": \"2\", \"goal\": \"r2_score_max\", \"run_name\": \"StandardScalerWrapper, XGBoostRegressor\", \"run_properties\": \"\\n    copy=True,\\n    with_mean=False,\\n    with_std=False\\n\", \"primary_metric\": 0.88589333, \"best_metric\": 0.89242622}, {\"run_id\": \"AutoML_35da29c5-8b10-42ba-8f8b-e7e49eaccd8a_3\", \"run_number\": 8, \"metric\": null, \"status\": \"Completed\", \"run_type\": \"azureml.scriptrun\", \"training_percent\": \"100\", \"start_time\": \"2021-12-22T06:33:28.154032Z\", \"end_time\": \"2021-12-22T06:33:59.276101Z\", \"created_time\": \"2021-12-22T06:33:28.154032Z\", \"created_time_dt\": \"2021-12-22T06:33:28.154032Z\", \"duration\": \"0:00:31\", \"iteration\": \"3\", \"goal\": \"r2_score_max\", \"run_name\": \"MaxAbsScaler, ElasticNet\", \"run_properties\": \"copy=True\", \"primary_metric\": 0.69756302, \"best_metric\": 0.89242622}, {\"run_id\": \"AutoML_35da29c5-8b10-42ba-8f8b-e7e49eaccd8a_4\", \"run_number\": 9, \"metric\": null, \"status\": \"Completed\", \"run_type\": \"azureml.scriptrun\", \"training_percent\": \"100\", \"start_time\": \"2021-12-22T06:34:01.340137Z\", \"end_time\": \"2021-12-22T06:35:25.019093Z\", \"created_time\": \"2021-12-22T06:34:01.340137Z\", \"created_time_dt\": \"2021-12-22T06:34:01.340137Z\", \"duration\": \"0:01:23\", \"iteration\": \"4\", \"goal\": \"r2_score_max\", \"run_name\": \"MaxAbsScaler, LightGBM\", \"run_properties\": \"copy=True\", \"primary_metric\": 0.87512145, \"best_metric\": 0.89242622}, {\"run_id\": \"AutoML_35da29c5-8b10-42ba-8f8b-e7e49eaccd8a_5\", \"run_number\": 10, \"metric\": null, \"status\": \"Completed\", \"run_type\": \"azureml.scriptrun\", \"training_percent\": \"100\", \"start_time\": \"2021-12-22T06:35:27.226648Z\", \"end_time\": \"2021-12-22T06:35:59.726406Z\", \"created_time\": \"2021-12-22T06:35:27.226648Z\", \"created_time_dt\": \"2021-12-22T06:35:27.226648Z\", \"duration\": \"0:00:32\", \"iteration\": \"5\", \"goal\": \"r2_score_max\", \"run_name\": \"SparseNormalizer, XGBoostRegressor\", \"run_properties\": \"copy=True, norm='l2'\", \"primary_metric\": 0.81018171, \"best_metric\": 0.89242622}, {\"run_id\": \"AutoML_35da29c5-8b10-42ba-8f8b-e7e49eaccd8a_6\", \"run_number\": 11, \"metric\": null, \"status\": \"Completed\", \"run_type\": \"azureml.scriptrun\", \"training_percent\": \"100\", \"start_time\": \"2021-12-22T06:36:02.023074Z\", \"end_time\": \"2021-12-22T06:37:25.921329Z\", \"created_time\": \"2021-12-22T06:36:02.023074Z\", \"created_time_dt\": \"2021-12-22T06:36:02.023074Z\", \"duration\": \"0:01:23\", \"iteration\": \"6\", \"goal\": \"r2_score_max\", \"run_name\": \"MaxAbsScaler, RandomForest\", \"run_properties\": \"copy=True\", \"primary_metric\": 0.88548649, \"best_metric\": 0.89242622}, {\"run_id\": \"AutoML_35da29c5-8b10-42ba-8f8b-e7e49eaccd8a_7\", \"run_number\": 12, \"metric\": null, \"status\": \"Completed\", \"run_type\": \"azureml.scriptrun\", \"training_percent\": \"100\", \"start_time\": \"2021-12-22T06:37:28.191284Z\", \"end_time\": \"2021-12-22T06:37:59.84903Z\", \"created_time\": \"2021-12-22T06:37:28.191284Z\", \"created_time_dt\": \"2021-12-22T06:37:28.191284Z\", \"duration\": \"0:00:31\", \"iteration\": \"7\", \"goal\": \"r2_score_max\", \"run_name\": \"MaxAbsScaler, RandomForest\", \"run_properties\": \"copy=True\", \"primary_metric\": 0.84254266, \"best_metric\": 0.89242622}, {\"run_id\": \"AutoML_35da29c5-8b10-42ba-8f8b-e7e49eaccd8a_8\", \"run_number\": 13, \"metric\": null, \"status\": \"Completed\", \"run_type\": \"azureml.scriptrun\", \"training_percent\": \"100\", \"start_time\": \"2021-12-22T06:38:01.919277Z\", \"end_time\": \"2021-12-22T06:39:34.725301Z\", \"created_time\": \"2021-12-22T06:38:01.919277Z\", \"created_time_dt\": \"2021-12-22T06:38:01.919277Z\", \"duration\": \"0:01:32\", \"iteration\": \"8\", \"goal\": \"r2_score_max\", \"run_name\": \"StandardScalerWrapper, ExtremeRandomTrees\", \"run_properties\": \"\\n    copy=True,\\n    with_mean=False,\\n    with_std=False\\n\", \"primary_metric\": 0.83278253, \"best_metric\": 0.89242622}, {\"run_id\": \"AutoML_35da29c5-8b10-42ba-8f8b-e7e49eaccd8a_9\", \"run_number\": 14, \"metric\": null, \"status\": \"Completed\", \"run_type\": \"azureml.scriptrun\", \"training_percent\": \"100\", \"start_time\": \"2021-12-22T06:39:37.061868Z\", \"end_time\": \"2021-12-22T06:40:05.26608Z\", \"created_time\": \"2021-12-22T06:39:37.061868Z\", \"created_time_dt\": \"2021-12-22T06:39:37.061868Z\", \"duration\": \"0:00:28\", \"iteration\": \"9\", \"goal\": \"r2_score_max\", \"run_name\": \"SparseNormalizer, XGBoostRegressor\", \"run_properties\": \"copy=True, norm='l2'\", \"primary_metric\": 0.80740258, \"best_metric\": 0.89242622}, {\"run_id\": \"AutoML_35da29c5-8b10-42ba-8f8b-e7e49eaccd8a_10\", \"run_number\": 15, \"metric\": null, \"status\": \"Completed\", \"run_type\": \"azureml.scriptrun\", \"training_percent\": \"100\", \"start_time\": \"2021-12-22T06:40:08.540962Z\", \"end_time\": \"2021-12-22T06:41:32.146139Z\", \"created_time\": \"2021-12-22T06:40:08.540962Z\", \"created_time_dt\": \"2021-12-22T06:40:08.540962Z\", \"duration\": \"0:01:23\", \"iteration\": \"10\", \"goal\": \"r2_score_max\", \"run_name\": \"MaxAbsScaler, ExtremeRandomTrees\", \"run_properties\": \"copy=True\", \"primary_metric\": 0.88359842, \"best_metric\": 0.89242622}, {\"run_id\": \"AutoML_35da29c5-8b10-42ba-8f8b-e7e49eaccd8a_11\", \"run_number\": 16, \"metric\": null, \"status\": \"Completed\", \"run_type\": \"azureml.scriptrun\", \"training_percent\": \"100\", \"start_time\": \"2021-12-22T06:41:34.275754Z\", \"end_time\": \"2021-12-22T06:42:09.457725Z\", \"created_time\": \"2021-12-22T06:41:34.275754Z\", \"created_time_dt\": \"2021-12-22T06:41:34.275754Z\", \"duration\": \"0:00:35\", \"iteration\": \"11\", \"goal\": \"r2_score_max\", \"run_name\": \"MaxAbsScaler, ElasticNet\", \"run_properties\": \"copy=True\", \"primary_metric\": 0.75920899, \"best_metric\": 0.89242622}, {\"run_id\": \"AutoML_35da29c5-8b10-42ba-8f8b-e7e49eaccd8a_12\", \"run_number\": 17, \"metric\": null, \"status\": \"Completed\", \"run_type\": \"azureml.scriptrun\", \"training_percent\": \"100\", \"start_time\": \"2021-12-22T06:42:11.467669Z\", \"end_time\": \"2021-12-22T06:43:33.464672Z\", \"created_time\": \"2021-12-22T06:42:11.467669Z\", \"created_time_dt\": \"2021-12-22T06:42:11.467669Z\", \"duration\": \"0:01:21\", \"iteration\": \"12\", \"goal\": \"r2_score_max\", \"run_name\": \"SparseNormalizer, XGBoostRegressor\", \"run_properties\": \"copy=True, norm='l1'\", \"primary_metric\": 0.81243442, \"best_metric\": 0.89242622}, {\"run_id\": \"AutoML_35da29c5-8b10-42ba-8f8b-e7e49eaccd8a_13\", \"run_number\": 18, \"metric\": null, \"status\": \"Completed\", \"run_type\": \"azureml.scriptrun\", \"training_percent\": \"100\", \"start_time\": \"2021-12-22T06:43:36.006677Z\", \"end_time\": \"2021-12-22T06:44:13.089748Z\", \"created_time\": \"2021-12-22T06:43:36.006677Z\", \"created_time_dt\": \"2021-12-22T06:43:36.006677Z\", \"duration\": \"0:00:37\", \"iteration\": \"13\", \"goal\": \"r2_score_max\", \"run_name\": \"MaxAbsScaler, RandomForest\", \"run_properties\": \"copy=True\", \"primary_metric\": 0.836171, \"best_metric\": 0.89242622}, {\"run_id\": \"AutoML_35da29c5-8b10-42ba-8f8b-e7e49eaccd8a_14\", \"run_number\": 19, \"metric\": null, \"status\": \"Completed\", \"run_type\": \"azureml.scriptrun\", \"training_percent\": \"100\", \"start_time\": \"2021-12-22T06:44:15.391085Z\", \"end_time\": \"2021-12-22T06:45:31.137614Z\", \"created_time\": \"2021-12-22T06:44:15.391085Z\", \"created_time_dt\": \"2021-12-22T06:44:15.391085Z\", \"duration\": \"0:01:15\", \"iteration\": \"14\", \"goal\": \"r2_score_max\", \"run_name\": \"StandardScalerWrapper, XGBoostRegressor\", \"run_properties\": \"\\n    copy=True,\\n    with_mean=False,\\n    with_std=False\\n\", \"primary_metric\": 0.87621262, \"best_metric\": 0.89242622}, {\"run_id\": \"AutoML_35da29c5-8b10-42ba-8f8b-e7e49eaccd8a_15\", \"run_number\": 20, \"metric\": null, \"status\": \"Completed\", \"run_type\": \"azureml.scriptrun\", \"training_percent\": \"100\", \"start_time\": \"2021-12-22T06:45:33.106829Z\", \"end_time\": \"2021-12-22T06:46:06.39605Z\", \"created_time\": \"2021-12-22T06:45:33.106829Z\", \"created_time_dt\": \"2021-12-22T06:45:33.106829Z\", \"duration\": \"0:00:33\", \"iteration\": \"15\", \"goal\": \"r2_score_max\", \"run_name\": \"StandardScalerWrapper, ElasticNet\", \"run_properties\": \"\\n    copy=True,\\n    with_mean=False,\\n    with_std=False\\n\", \"primary_metric\": 0.70150936, \"best_metric\": 0.89242622}, {\"run_id\": \"AutoML_35da29c5-8b10-42ba-8f8b-e7e49eaccd8a_16\", \"run_number\": 21, \"metric\": null, \"status\": \"Completed\", \"run_type\": \"azureml.scriptrun\", \"training_percent\": \"100\", \"start_time\": \"2021-12-22T06:46:07.563974Z\", \"end_time\": \"2021-12-22T06:47:38.615531Z\", \"created_time\": \"2021-12-22T06:46:07.563974Z\", \"created_time_dt\": \"2021-12-22T06:46:07.563974Z\", \"duration\": \"0:01:31\", \"iteration\": \"16\", \"goal\": \"r2_score_max\", \"run_name\": \"VotingEnsemble\", \"run_properties\": \"\\n    estimators=[('1', Pipeline(\\n        memory=None,\\n        steps=[('maxabsscaler', MaxAbsScaler(\\n            copy=True\\n        \", \"primary_metric\": 0.90364576, \"best_metric\": 0.90364576}], \"children_metrics\": {\"categories\": [0], \"series\": {\"median_absolute_error\": [{\"categories\": [\"0\", \"1\", \"2\", \"3\", \"4\", \"5\", \"6\", \"7\", \"8\", \"9\", \"10\", \"11\", \"12\", \"13\", \"14\", \"15\", \"16\"], \"mode\": \"markers\", \"name\": \"median_absolute_error\", \"stepped\": false, \"type\": \"scatter\", \"data\": [4.984422972653668, 4.750681915283204, 4.475460662841796, 8.520283279778502, 4.785131587279432, 6.04957347869873, 4.877333333333353, 6.016590951270953, 7.051054269969025, 5.2354638671875, 4.484133333333347, 8.095861921612842, 5.104054412841796, 6.336080000399636, 4.566165008544921, 11.225152990672774, 4.212533971905531]}, {\"categories\": [\"0\", \"1\", \"2\", \"3\", \"4\", \"5\", \"6\", \"7\", \"8\", \"9\", \"10\", \"11\", \"12\", \"13\", \"14\", \"15\", \"16\"], \"mode\": \"lines\", \"name\": \"median_absolute_error_min\", \"stepped\": true, \"type\": \"scatter\", \"data\": [4.984422972653668, 4.750681915283204, 4.475460662841796, 4.475460662841796, 4.475460662841796, 4.475460662841796, 4.475460662841796, 4.475460662841796, 4.475460662841796, 4.475460662841796, 4.475460662841796, 4.475460662841796, 4.475460662841796, 4.475460662841796, 4.475460662841796, 4.475460662841796, 4.212533971905531]}], \"mean_absolute_error\": [{\"categories\": [\"0\", \"1\", \"2\", \"3\", \"4\", \"5\", \"6\", \"7\", \"8\", \"9\", \"10\", \"11\", \"12\", \"13\", \"14\", \"15\", \"16\"], \"mode\": \"markers\", \"name\": \"mean_absolute_error\", \"stepped\": false, \"type\": \"scatter\", \"data\": [7.1405357273754975, 6.469563734757178, 6.395275649608988, 11.116236672515331, 6.936888926210654, 8.643159276192838, 6.518562910353535, 8.099973240639832, 8.61670370292569, 7.932600269733053, 6.543447285353535, 10.2964858341969, 7.710846104897333, 8.265866652431404, 6.731386268165979, 12.291097701825052, 6.098909811542928]}, {\"categories\": [\"0\", \"1\", \"2\", \"3\", \"4\", \"5\", \"6\", \"7\", \"8\", \"9\", \"10\", \"11\", \"12\", \"13\", \"14\", \"15\", \"16\"], \"mode\": \"lines\", \"name\": \"mean_absolute_error_min\", \"stepped\": true, \"type\": \"scatter\", \"data\": [7.1405357273754975, 6.469563734757178, 6.395275649608988, 6.395275649608988, 6.395275649608988, 6.395275649608988, 6.395275649608988, 6.395275649608988, 6.395275649608988, 6.395275649608988, 6.395275649608988, 6.395275649608988, 6.395275649608988, 6.395275649608988, 6.395275649608988, 6.395275649608988, 6.098909811542928]}], \"normalized_root_mean_squared_error\": [{\"categories\": [\"0\", \"1\", \"2\", \"3\", \"4\", \"5\", \"6\", \"7\", \"8\", \"9\", \"10\", \"11\", \"12\", \"13\", \"14\", \"15\", \"16\"], \"mode\": \"markers\", \"name\": \"normalized_root_mean_squared_error\", \"stepped\": false, \"type\": \"scatter\", \"data\": [0.09899266777704616, 0.09200549134218448, 0.09521749346420083, 0.15472591670884192, 0.0988963833415798, 0.12299352070305128, 0.09529644932498722, 0.11161484280925464, 0.11593936890848536, 0.1227259712332461, 0.09626984574813535, 0.13816980076849733, 0.12056442485147442, 0.11429039737461036, 0.09841409478109121, 0.1544718345272565, 0.0877921474617388]}, {\"categories\": [\"0\", \"1\", \"2\", \"3\", \"4\", \"5\", \"6\", \"7\", \"8\", \"9\", \"10\", \"11\", \"12\", \"13\", \"14\", \"15\", \"16\"], \"mode\": \"lines\", \"name\": \"normalized_root_mean_squared_error_min\", \"stepped\": true, \"type\": \"scatter\", \"data\": [0.09899266777704616, 0.09200549134218448, 0.09200549134218448, 0.09200549134218448, 0.09200549134218448, 0.09200549134218448, 0.09200549134218448, 0.09200549134218448, 0.09200549134218448, 0.09200549134218448, 0.09200549134218448, 0.09200549134218448, 0.09200549134218448, 0.09200549134218448, 0.09200549134218448, 0.09200549134218448, 0.0877921474617388]}], \"mean_absolute_percentage_error\": [{\"categories\": [\"0\", \"1\", \"2\", \"3\", \"4\", \"5\", \"6\", \"7\", \"8\", \"9\", \"10\", \"11\", \"12\", \"13\", \"14\", \"15\", \"16\"], \"mode\": \"markers\", \"name\": \"mean_absolute_percentage_error\", \"stepped\": false, \"type\": \"scatter\", \"data\": [28.432056833884463, 27.59327356556052, 27.73782686988547, 45.685443419872186, 37.66989426805121, 45.06200917275977, 28.70634026708397, 40.26581764544358, 55.591551916266916, 37.48614535335097, 31.186269984942236, 44.63018064591928, 33.81867230403744, 41.60327064250965, 27.517934693484033, 89.02313029456386, 27.020912242357348]}, {\"categories\": [\"0\", \"1\", \"2\", \"3\", \"4\", \"5\", \"6\", \"7\", \"8\", \"9\", \"10\", \"11\", \"12\", \"13\", \"14\", \"15\", \"16\"], \"mode\": \"lines\", \"name\": \"mean_absolute_percentage_error_min\", \"stepped\": true, \"type\": \"scatter\", \"data\": [28.432056833884463, 27.59327356556052, 27.59327356556052, 27.59327356556052, 27.59327356556052, 27.59327356556052, 27.59327356556052, 27.59327356556052, 27.59327356556052, 27.59327356556052, 27.59327356556052, 27.59327356556052, 27.59327356556052, 27.59327356556052, 27.517934693484033, 27.517934693484033, 27.020912242357348]}], \"normalized_root_mean_squared_log_error\": [{\"categories\": [\"0\", \"1\", \"2\", \"3\", \"4\", \"5\", \"6\", \"7\", \"8\", \"9\", \"10\", \"11\", \"12\", \"13\", \"14\", \"15\", \"16\"], \"mode\": \"markers\", \"name\": \"normalized_root_mean_squared_log_error\", \"stepped\": false, \"type\": \"scatter\", \"data\": [0.08845461102867841, 0.07763022943162017, 0.07819585949451939, 0.11253826754535556, 0.09220095395254073, 0.10355709081603744, 0.07929259630477692, 0.09135875343059309, 0.10819498733775276, 0.09717329228287484, 0.08460286727514241, 0.0945376143112333, 0.09067418734476357, 0.09388478178747714, 0.08119313146224796, 0.13282042358522317, 0.07659271090396638]}, {\"categories\": [\"0\", \"1\", \"2\", \"3\", \"4\", \"5\", \"6\", \"7\", \"8\", \"9\", \"10\", \"11\", \"12\", \"13\", \"14\", \"15\", \"16\"], \"mode\": \"lines\", \"name\": \"normalized_root_mean_squared_log_error_min\", \"stepped\": true, \"type\": \"scatter\", \"data\": [0.08845461102867841, 0.07763022943162017, 0.07763022943162017, 0.07763022943162017, 0.07763022943162017, 0.07763022943162017, 0.07763022943162017, 0.07763022943162017, 0.07763022943162017, 0.07763022943162017, 0.07763022943162017, 0.07763022943162017, 0.07763022943162017, 0.07763022943162017, 0.07763022943162017, 0.07763022943162017, 0.07659271090396638]}], \"root_mean_squared_error\": [{\"categories\": [\"0\", \"1\", \"2\", \"3\", \"4\", \"5\", \"6\", \"7\", \"8\", \"9\", \"10\", \"11\", \"12\", \"13\", \"14\", \"15\", \"16\"], \"mode\": \"markers\", \"name\": \"root_mean_squared_error\", \"stepped\": false, \"type\": \"scatter\", \"data\": [9.661684375039703, 8.979735954997206, 9.293227362106002, 15.101249470782971, 9.652287014138187, 12.004167620617803, 9.300933454118752, 10.893608658183252, 11.31568240546817, 11.978054792364818, 9.39593694501801, 13.485372555005336, 11.767087865503905, 11.154742783761971, 9.605215650634502, 15.076451049860234, 8.568513592265706]}, {\"categories\": [\"0\", \"1\", \"2\", \"3\", \"4\", \"5\", \"6\", \"7\", \"8\", \"9\", \"10\", \"11\", \"12\", \"13\", \"14\", \"15\", \"16\"], \"mode\": \"lines\", \"name\": \"root_mean_squared_error_min\", \"stepped\": true, \"type\": \"scatter\", \"data\": [9.661684375039703, 8.979735954997206, 8.979735954997206, 8.979735954997206, 8.979735954997206, 8.979735954997206, 8.979735954997206, 8.979735954997206, 8.979735954997206, 8.979735954997206, 8.979735954997206, 8.979735954997206, 8.979735954997206, 8.979735954997206, 8.979735954997206, 8.979735954997206, 8.568513592265706]}], \"root_mean_squared_log_error\": [{\"categories\": [\"0\", \"1\", \"2\", \"3\", \"4\", \"5\", \"6\", \"7\", \"8\", \"9\", \"10\", \"11\", \"12\", \"13\", \"14\", \"15\", \"16\"], \"mode\": \"markers\", \"name\": \"root_mean_squared_log_error\", \"stepped\": false, \"type\": \"scatter\", \"data\": [0.3456819453066742, 0.30338009983250547, 0.3055905905937338, 0.43980123584409486, 0.36032270958844526, 0.4047026626116927, 0.3098766544817581, 0.35703137732911533, 0.4228276317129396, 0.3797546822890606, 0.33062927300320927, 0.3694544132828061, 0.3543560828081344, 0.36690313399790453, 0.31730397435483204, 0.5190642055563444, 0.2993254618802251]}, {\"categories\": [\"0\", \"1\", \"2\", \"3\", \"4\", \"5\", \"6\", \"7\", \"8\", \"9\", \"10\", \"11\", \"12\", \"13\", \"14\", \"15\", \"16\"], \"mode\": \"lines\", \"name\": \"root_mean_squared_log_error_min\", \"stepped\": true, \"type\": \"scatter\", \"data\": [0.3456819453066742, 0.30338009983250547, 0.30338009983250547, 0.30338009983250547, 0.30338009983250547, 0.30338009983250547, 0.30338009983250547, 0.30338009983250547, 0.30338009983250547, 0.30338009983250547, 0.30338009983250547, 0.30338009983250547, 0.30338009983250547, 0.30338009983250547, 0.30338009983250547, 0.30338009983250547, 0.2993254618802251]}], \"r2_score\": [{\"categories\": [\"0\", \"1\", \"2\", \"3\", \"4\", \"5\", \"6\", \"7\", \"8\", \"9\", \"10\", \"11\", \"12\", \"13\", \"14\", \"15\", \"16\"], \"mode\": \"markers\", \"name\": \"r2_score\", \"stepped\": false, \"type\": \"scatter\", \"data\": [0.8720551112076587, 0.8924262199918097, 0.8858933335088155, 0.69756302096513, 0.8751214478427348, 0.8101817053391143, 0.8854864949704322, 0.8425426604095134, 0.8327825260561257, 0.8074025759079898, 0.8835984150116228, 0.7592089878104441, 0.8124344210786978, 0.8361710011113276, 0.8762126160793835, 0.7015093581668594, 0.903645764562583]}, {\"categories\": [\"0\", \"1\", \"2\", \"3\", \"4\", \"5\", \"6\", \"7\", \"8\", \"9\", \"10\", \"11\", \"12\", \"13\", \"14\", \"15\", \"16\"], \"mode\": \"lines\", \"name\": \"r2_score_max\", \"stepped\": true, \"type\": \"scatter\", \"data\": [0.8720551112076587, 0.8924262199918097, 0.8924262199918097, 0.8924262199918097, 0.8924262199918097, 0.8924262199918097, 0.8924262199918097, 0.8924262199918097, 0.8924262199918097, 0.8924262199918097, 0.8924262199918097, 0.8924262199918097, 0.8924262199918097, 0.8924262199918097, 0.8924262199918097, 0.8924262199918097, 0.903645764562583]}], \"explained_variance\": [{\"categories\": [\"0\", \"1\", \"2\", \"3\", \"4\", \"5\", \"6\", \"7\", \"8\", \"9\", \"10\", \"11\", \"12\", \"13\", \"14\", \"15\", \"16\"], \"mode\": \"markers\", \"name\": \"explained_variance\", \"stepped\": false, \"type\": \"scatter\", \"data\": [0.8728204894922749, 0.8934154288435886, 0.888113438099665, 0.7120945827085149, 0.8763891330456726, 0.8126404172820406, 0.8886572585046636, 0.8441727757772443, 0.8335221477593112, 0.8129701375697167, 0.8863241448001087, 0.7723290740176048, 0.8202137566166432, 0.8371523095977805, 0.8790296071104399, 0.7025177340098478, 0.9051401572596476]}, {\"categories\": [\"0\", \"1\", \"2\", \"3\", \"4\", \"5\", \"6\", \"7\", \"8\", \"9\", \"10\", \"11\", \"12\", \"13\", \"14\", \"15\", \"16\"], \"mode\": \"lines\", \"name\": \"explained_variance_max\", \"stepped\": true, \"type\": \"scatter\", \"data\": [0.8728204894922749, 0.8934154288435886, 0.8934154288435886, 0.8934154288435886, 0.8934154288435886, 0.8934154288435886, 0.8934154288435886, 0.8934154288435886, 0.8934154288435886, 0.8934154288435886, 0.8934154288435886, 0.8934154288435886, 0.8934154288435886, 0.8934154288435886, 0.8934154288435886, 0.8934154288435886, 0.9051401572596476]}], \"spearman_correlation\": [{\"categories\": [\"0\", \"1\", \"2\", \"3\", \"4\", \"5\", \"6\", \"7\", \"8\", \"9\", \"10\", \"11\", \"12\", \"13\", \"14\", \"15\", \"16\"], \"mode\": \"markers\", \"name\": \"spearman_correlation\", \"stepped\": false, \"type\": \"scatter\", \"data\": [0.8715032030681724, 0.8963149640124495, 0.8913174002913641, 0.8120292771486414, 0.8793080992527633, 0.8330115853679152, 0.9040829645317254, 0.8666343933288332, 0.8779324203693655, 0.836749229094156, 0.9039941269517853, 0.8416027017528783, 0.8480126965564981, 0.8678906243681921, 0.8796174394540215, 0.7783178587692083, 0.908216303139939]}, {\"categories\": [\"0\", \"1\", \"2\", \"3\", \"4\", \"5\", \"6\", \"7\", \"8\", \"9\", \"10\", \"11\", \"12\", \"13\", \"14\", \"15\", \"16\"], \"mode\": \"lines\", \"name\": \"spearman_correlation_max\", \"stepped\": true, \"type\": \"scatter\", \"data\": [0.8715032030681724, 0.8963149640124495, 0.8963149640124495, 0.8963149640124495, 0.8963149640124495, 0.8963149640124495, 0.9040829645317254, 0.9040829645317254, 0.9040829645317254, 0.9040829645317254, 0.9040829645317254, 0.9040829645317254, 0.9040829645317254, 0.9040829645317254, 0.9040829645317254, 0.9040829645317254, 0.908216303139939]}], \"normalized_mean_absolute_error\": [{\"categories\": [\"0\", \"1\", \"2\", \"3\", \"4\", \"5\", \"6\", \"7\", \"8\", \"9\", \"10\", \"11\", \"12\", \"13\", \"14\", \"15\", \"16\"], \"mode\": \"markers\", \"name\": \"normalized_mean_absolute_error\", \"stepped\": false, \"type\": \"scatter\", \"data\": [0.0731612267149129, 0.06628651367579076, 0.06552536526238718, 0.11389586754626364, 0.07107468162101079, 0.08855695979705779, 0.06678855440935999, 0.08299152910491632, 0.08828589859555011, 0.08127664210792063, 0.06704351726796656, 0.105496781088083, 0.0790045707468989, 0.08469125668474801, 0.06896912160006126, 0.1259333780924698, 0.06248883003630048]}, {\"categories\": [\"0\", \"1\", \"2\", \"3\", \"4\", \"5\", \"6\", \"7\", \"8\", \"9\", \"10\", \"11\", \"12\", \"13\", \"14\", \"15\", \"16\"], \"mode\": \"lines\", \"name\": \"normalized_mean_absolute_error_min\", \"stepped\": true, \"type\": \"scatter\", \"data\": [0.0731612267149129, 0.06628651367579076, 0.06552536526238718, 0.06552536526238718, 0.06552536526238718, 0.06552536526238718, 0.06552536526238718, 0.06552536526238718, 0.06552536526238718, 0.06552536526238718, 0.06552536526238718, 0.06552536526238718, 0.06552536526238718, 0.06552536526238718, 0.06552536526238718, 0.06552536526238718, 0.06248883003630048]}], \"normalized_median_absolute_error\": [{\"categories\": [\"0\", \"1\", \"2\", \"3\", \"4\", \"5\", \"6\", \"7\", \"8\", \"9\", \"10\", \"11\", \"12\", \"13\", \"14\", \"15\", \"16\"], \"mode\": \"markers\", \"name\": \"normalized_median_absolute_error\", \"stepped\": false, \"type\": \"scatter\", \"data\": [0.05106990750669742, 0.048675019623803314, 0.045855129742231514, 0.08729798442396007, 0.04902798757458434, 0.0619833348227329, 0.04997267759562862, 0.061645399090890916, 0.072244408503781, 0.05364204781954405, 0.04594398907103839, 0.0829494049345578, 0.05229563947583808, 0.06491885246311102, 0.04678447754656682, 0.11501181342902433, 0.043161208728540276]}, {\"categories\": [\"0\", \"1\", \"2\", \"3\", \"4\", \"5\", \"6\", \"7\", \"8\", \"9\", \"10\", \"11\", \"12\", \"13\", \"14\", \"15\", \"16\"], \"mode\": \"lines\", \"name\": \"normalized_median_absolute_error_min\", \"stepped\": true, \"type\": \"scatter\", \"data\": [0.05106990750669742, 0.048675019623803314, 0.045855129742231514, 0.045855129742231514, 0.045855129742231514, 0.045855129742231514, 0.045855129742231514, 0.045855129742231514, 0.045855129742231514, 0.045855129742231514, 0.045855129742231514, 0.045855129742231514, 0.045855129742231514, 0.045855129742231514, 0.045855129742231514, 0.045855129742231514, 0.043161208728540276]}]}, \"metricName\": null, \"primaryMetricName\": \"r2_score\", \"showLegend\": false}, \"run_metrics\": [{\"name\": \"experiment_status\", \"run_id\": \"AutoML_35da29c5-8b10-42ba-8f8b-e7e49eaccd8a\", \"categories\": [0, 1, 2, 3, 4, 5, 6, 7, 8, 9, 10, 11, 12, 13], \"series\": [{\"data\": [\"DatasetEvaluation\", \"FeaturesGeneration\", \"DatasetFeaturization\", \"DatasetFeaturizationCompleted\", \"DatasetCrossValidationSplit\", \"ModelSelection\", \"BestRunExplainModel\", \"ModelExplanationDataSetSetup\", \"PickSurrogateModel\", \"EngineeredFeatureExplanations\", \"EngineeredFeatureExplanations\", \"RawFeaturesExplanations\", \"RawFeaturesExplanations\", \"BestRunExplainModel\"]}]}, {\"name\": \"experiment_status_description\", \"run_id\": \"AutoML_35da29c5-8b10-42ba-8f8b-e7e49eaccd8a\", \"categories\": [0, 1, 2, 3, 4, 5, 6, 7, 8, 9, 10, 11, 12, 13], \"series\": [{\"data\": [\"Gathering dataset statistics.\", \"Generating features for the dataset.\", \"Beginning to fit featurizers and featurize the dataset.\", \"Completed fit featurizers and featurizing the dataset.\", \"Generating individually featurized CV splits.\", \"Beginning model selection.\", \"Best run model explanations started\", \"Model explanations data setup completed\", \"Choosing LightGBM as the surrogate model for explanations\", \"Computation of engineered features started\", \"Computation of engineered features completed\", \"Computation of raw features started\", \"Computation of raw features completed\", \"Best run model explanations completed\"]}]}, {\"name\": \"mean_absolute_percentage_error\", \"run_id\": \"AutoML_35da29c5-8b10-42ba-8f8b-e7e49eaccd8a\", \"categories\": [0], \"series\": [{\"data\": [27.020912242357348]}]}, {\"name\": \"normalized_median_absolute_error\", \"run_id\": \"AutoML_35da29c5-8b10-42ba-8f8b-e7e49eaccd8a\", \"categories\": [0], \"series\": [{\"data\": [0.043161208728540276]}]}, {\"name\": \"normalized_mean_absolute_error\", \"run_id\": \"AutoML_35da29c5-8b10-42ba-8f8b-e7e49eaccd8a\", \"categories\": [0], \"series\": [{\"data\": [0.06248883003630048]}]}, {\"name\": \"normalized_root_mean_squared_log_error\", \"run_id\": \"AutoML_35da29c5-8b10-42ba-8f8b-e7e49eaccd8a\", \"categories\": [0], \"series\": [{\"data\": [0.07659271090396638]}]}, {\"name\": \"explained_variance\", \"run_id\": \"AutoML_35da29c5-8b10-42ba-8f8b-e7e49eaccd8a\", \"categories\": [0], \"series\": [{\"data\": [0.9051401572596476]}]}, {\"name\": \"median_absolute_error\", \"run_id\": \"AutoML_35da29c5-8b10-42ba-8f8b-e7e49eaccd8a\", \"categories\": [0], \"series\": [{\"data\": [4.212533971905531]}]}, {\"name\": \"normalized_root_mean_squared_error\", \"run_id\": \"AutoML_35da29c5-8b10-42ba-8f8b-e7e49eaccd8a\", \"categories\": [0], \"series\": [{\"data\": [0.0877921474617388]}]}, {\"name\": \"root_mean_squared_log_error\", \"run_id\": \"AutoML_35da29c5-8b10-42ba-8f8b-e7e49eaccd8a\", \"categories\": [0], \"series\": [{\"data\": [0.2993254618802251]}]}, {\"name\": \"spearman_correlation\", \"run_id\": \"AutoML_35da29c5-8b10-42ba-8f8b-e7e49eaccd8a\", \"categories\": [0], \"series\": [{\"data\": [0.908216303139939]}]}, {\"name\": \"r2_score\", \"run_id\": \"AutoML_35da29c5-8b10-42ba-8f8b-e7e49eaccd8a\", \"categories\": [0], \"series\": [{\"data\": [0.903645764562583]}]}, {\"name\": \"root_mean_squared_error\", \"run_id\": \"AutoML_35da29c5-8b10-42ba-8f8b-e7e49eaccd8a\", \"categories\": [0], \"series\": [{\"data\": [8.568513592265706]}]}, {\"name\": \"mean_absolute_error\", \"run_id\": \"AutoML_35da29c5-8b10-42ba-8f8b-e7e49eaccd8a\", \"categories\": [0], \"series\": [{\"data\": [6.098909811542928]}]}], \"run_logs\": \"\\nRun is completed.\", \"graph\": {}, \"widget_settings\": {\"childWidgetDisplay\": \"popup\", \"send_telemetry\": false, \"log_level\": \"INFO\", \"sdk_version\": \"1.36.0\"}, \"loading\": false}"
     },
     "metadata": {},
     "output_type": "display_data"
    }
   ],
   "source": [
    "RunDetails(remote_run).show()"
   ]
  },
  {
   "cell_type": "markdown",
   "metadata": {},
   "source": [
    "## Best Model\n",
    "\n",
    "TODO: In the cell below, get the best model from the automl experiments and display all the properties of the model.\n",
    "\n"
   ]
  },
  {
   "cell_type": "code",
   "execution_count": 13,
   "metadata": {
    "gather": {
     "logged": 1640155884903
    },
    "jupyter": {
     "outputs_hidden": false,
     "source_hidden": false
    },
    "nteract": {
     "transient": {
      "deleting": false
     }
    }
   },
   "outputs": [
    {
     "data": {
      "text/html": [
       "<table style=\"width:100%\"><tr><th>Experiment</th><th>Id</th><th>Type</th><th>Status</th><th>Details Page</th><th>Docs Page</th></tr><tr><td>micropol-rej</td><td>AutoML_35da29c5-8b10-42ba-8f8b-e7e49eaccd8a_16</td><td>azureml.scriptrun</td><td>Completed</td><td><a href=\"https://ml.azure.com/runs/AutoML_35da29c5-8b10-42ba-8f8b-e7e49eaccd8a_16?wsid=/subscriptions/610d6e37-4747-4a20-80eb-3aad70a55f43/resourcegroups/aml-quickstarts-167740/workspaces/quick-starts-ws-167740&amp;tid=660b3398-b80e-49d2-bc5b-ac1dc93b5254\" target=\"_blank\" rel=\"noopener\">Link to Azure Machine Learning studio</a></td><td><a href=\"https://docs.microsoft.com/en-us/python/api/azureml-core/azureml.core.run.Run?view=azure-ml-py\" target=\"_blank\" rel=\"noopener\">Link to Documentation</a></td></tr></table>"
      ],
      "text/plain": [
       "Run(Experiment: micropol-rej,\n",
       "Id: AutoML_35da29c5-8b10-42ba-8f8b-e7e49eaccd8a_16,\n",
       "Type: azureml.scriptrun,\n",
       "Status: Completed)"
      ]
     },
     "execution_count": 13,
     "metadata": {},
     "output_type": "execute_result"
    }
   ],
   "source": [
    "remote_run.get_best_child()\n"
   ]
  },
  {
   "cell_type": "code",
   "execution_count": 14,
   "metadata": {
    "gather": {
     "logged": 1640155899393
    },
    "jupyter": {
     "outputs_hidden": false,
     "source_hidden": false
    },
    "nteract": {
     "transient": {
      "deleting": false
     }
    }
   },
   "outputs": [
    {
     "name": "stdout",
     "output_type": "stream",
     "text": [
      "Run(Experiment: micropol-rej,\n",
      "Id: AutoML_35da29c5-8b10-42ba-8f8b-e7e49eaccd8a_16,\n",
      "Type: azureml.scriptrun,\n",
      "Status: Completed)\n",
      "RegressionPipeline(pipeline=Pipeline(memory=None,\n",
      "                                     steps=[('datatransformer',\n",
      "                                             DataTransformer(enable_dnn=False, enable_feature_sweeping=False, feature_sweeping_config={}, feature_sweeping_timeout=86400, featurization_config=None, force_text_dnn=False, is_cross_validation=True, is_onnx_compatible=True, observer=None, task='regression', working_dir='/mnt/batch/ta...\n",
      "), random_state=None))], verbose=False)), ('11', Pipeline(memory=None, steps=[('maxabsscaler', MaxAbsScaler(copy=True)), ('elasticnet', ElasticNet(alpha=0.001, copy_X=True, fit_intercept=True, l1_ratio=0.9478947368421053, max_iter=1000, normalize=False, positive=False, precompute=False, random_state=None, selection='cyclic', tol=0.0001, warm_start=False))], verbose=False))], weights=[0.06666666666666667, 0.06666666666666667, 0.26666666666666666, 0.06666666666666667, 0.06666666666666667, 0.2, 0.13333333333333333, 0.13333333333333333]))],\n",
      "                                     verbose=False),\n",
      "                   stddev=[8.599684264869245])\n"
     ]
    }
   ],
   "source": [
    "best_run, fitted_model = remote_run.get_output()\n",
    "print(best_run)\n",
    "print(fitted_model)"
   ]
  },
  {
   "cell_type": "code",
   "execution_count": 15,
   "metadata": {
    "gather": {
     "logged": 1640155941067
    }
   },
   "outputs": [],
   "source": [
    "# Get the model as onnx\n",
    "best_run2, onnx_mdl = remote_run.get_output(return_onnx_model=True)"
   ]
  },
  {
   "cell_type": "code",
   "execution_count": 17,
   "metadata": {
    "gather": {
     "logged": 1640156092097
    }
   },
   "outputs": [],
   "source": [
    "#TODO: Save the best model in ONNX format\n",
    "onnx_fl_path = \"./best_model.onnx\"\n",
    "OnnxConverter.save_onnx_model(onnx_mdl, onnx_fl_path)"
   ]
  },
  {
   "cell_type": "code",
   "execution_count": 18,
   "metadata": {
    "gather": {
     "logged": 1640156122540
    },
    "jupyter": {
     "outputs_hidden": false,
     "source_hidden": false
    },
    "nteract": {
     "transient": {
      "deleting": false
     }
    }
   },
   "outputs": [
    {
     "data": {
      "text/plain": [
       "Model(workspace=Workspace.create(name='quick-starts-ws-167740', subscription_id='610d6e37-4747-4a20-80eb-3aad70a55f43', resource_group='aml-quickstarts-167740'), name=mp_rejection_model, id=mp_rejection_model:1, version=1, tags={}, properties={})"
      ]
     },
     "execution_count": 18,
     "metadata": {},
     "output_type": "execute_result"
    }
   ],
   "source": [
    "#TODO: Save and register the best model in ML Azure workspace\n",
    "best_run.register_model(model_name = 'mp_rejection_model', model_path = 'outputs/')"
   ]
  },
  {
   "cell_type": "markdown",
   "metadata": {},
   "source": [
    "## Model Deployment\n",
    "\n",
    "Remember you have to deploy only one of the two models you trained but you still need to register both the models. Perform the steps in the rest of this notebook only if you wish to deploy this model.\n",
    "\n",
    "TODO: In the cell below, register the model, create an inference config and deploy the model as a web service. Enable Application Insights is set to True.\n",
    "\n",
    "Models can be deployed locally or in the cloud. An Azure Container Instance (ACI) web service will be used for deploying the AzureML trained best model. The model is already registered in the workspace, which means the model itself is available. But still, a few other requirements are needed:\n",
    "- An entry script 'score.py'. The script has instructions for using the model, e.g. make a prediction with the data, and return a response.\n",
    "- An environment '.yml' file that describes dependencies required by the model and the entry script.\n",
    "- The deployment configuration, which will point into a target compute configuration (e.g. CPU cores, memory) needed to run the web service.\n",
    "\n",
    "When deploying, the environmnet will be registered, an image will be created and the deployment will be computed. \n",
    "Once the model has been deployed the ACI service creation operation is finished. An endpoint is available now in the Workspace. The status and \n",
    "needed API key instruction will be provided in the endpoint to make use of the model."
   ]
  },
  {
   "cell_type": "code",
   "execution_count": 19,
   "metadata": {
    "gather": {
     "logged": 1640156138458
    },
    "jupyter": {
     "outputs_hidden": false,
     "source_hidden": false
    },
    "nteract": {
     "transient": {
      "deleting": false
     }
    }
   },
   "outputs": [],
   "source": [
    "sou_path = user_path + '/odl_user_167740/'\n",
    "inference_config = InferenceConfig(runtime = 'python', entry_script='./score.py', conda_file='./conda_env.yml', source_directory=sou_path)\n",
    "\n",
    "deployment_config = AciWebservice.deploy_configuration(\n",
    "    cpu_cores=1, memory_gb=1, auth_enabled=True, enable_app_insights=True\n",
    ")\n"
   ]
  },
  {
   "cell_type": "code",
   "execution_count": 20,
   "metadata": {
    "gather": {
     "logged": 1640157584855
    }
   },
   "outputs": [
    {
     "name": "stdout",
     "output_type": "stream",
     "text": [
      "Tips: You can try get_logs(): https://aka.ms/debugimage#dockerlog or local deployment: https://aka.ms/debugimage#debug-locally to debug if deployment takes longer than 10 minutes.\n",
      "Running\n",
      "2021-12-22 06:55:47+00:00 Creating Container Registry if not exists..\n",
      "2021-12-22 07:05:48+00:00 Registering the environment.\n",
      "2021-12-22 07:05:49+00:00 Building image..\n",
      "2021-12-22 07:17:03+00:00 Generating deployment configuration.\n",
      "2021-12-22 07:17:06+00:00 Submitting deployment to compute..\n",
      "2021-12-22 07:17:09+00:00 Checking the status of deployment mem-rejection-mp..\n",
      "2021-12-22 07:19:42+00:00 Checking the status of inference endpoint mem-rejection-mp.\n",
      "Succeeded\n",
      "ACI service creation operation finished, operation \"Succeeded\"\n"
     ]
    }
   ],
   "source": [
    "\n",
    "model = ws.models['mp_rejection_model']\n",
    "service = Model.deploy(workspace=ws,\n",
    "                       name = 'mem-rejection-mp',\n",
    "                       models = [model],\n",
    "                       inference_config = inference_config,\n",
    "                       deployment_config = deployment_config)\n",
    "service.wait_for_deployment(show_output = True)"
   ]
  },
  {
   "cell_type": "markdown",
   "metadata": {
    "collapsed": true,
    "gather": {
     "logged": 1598431657736
    },
    "jupyter": {
     "outputs_hidden": false,
     "source_hidden": false
    },
    "nteract": {
     "transient": {
      "deleting": false
     }
    }
   },
   "source": [
    "TODO: In the cell below, send a request to the web service you deployed to test it."
   ]
  },
  {
   "cell_type": "code",
   "execution_count": 37,
   "metadata": {
    "gather": {
     "logged": 1640160436393
    }
   },
   "outputs": [
    {
     "name": "stdout",
     "output_type": "stream",
     "text": [
      "{\"result\": [87.36935990635946, 92.3259529467748]}\n"
     ]
    }
   ],
   "source": [
    "# Request data goes here\n",
    "data = {\n",
    "    \"data\":\n",
    "    [\n",
    "        {\n",
    "            \"Name\": 'Caffeine',\n",
    "            \"ID\": 'CFN',\n",
    "            \"MW\": 194.19,\n",
    "            \"log_Kow\": -0.07, \n",
    "            \"log_D\": -0.45, \n",
    "            \"dipole\": 3.71, \n",
    "            \"MV\": 133.3, \n",
    "            \"length\": 0.98, \n",
    "            \"width\": 0.87, \n",
    "            \"depth\": 0.56, \n",
    "            \"eq_width\": 0.70, \n",
    "            \"membrane\": 'ESPA', \n",
    "            \"MWCO\": 200, \n",
    "            \"SR\": 0.99,\n",
    "        },\n",
    "        {\n",
    "            \"Name\": 'Bisphenol A',\n",
    "            \"ID\": 'BPA',\n",
    "            \"MW\": 228.29,\n",
    "            \"log_Kow\": 3.32, \n",
    "            \"log_D\": 3.86, \n",
    "            \"dipole\": 2.13, \n",
    "            \"MV\": 199.5, \n",
    "            \"length\": 1.25, \n",
    "            \"width\": 0.83, \n",
    "            \"depth\": 0.75, \n",
    "            \"eq_width\": 0.79, \n",
    "            \"membrane\": 'De-HL', \n",
    "            \"MWCO\": 175, \n",
    "            \"SR\": 0.97,\n",
    "        },\n",
    "    ],\n",
    "}\n",
    "\n",
    "body = str.encode(json.dumps(data))\n",
    "\n",
    "url = 'http://4f1f2228-3623-479b-9189-7e499c0947f1.southcentralus.azurecontainer.io/score'\n",
    "api_key = 'LYvQjhY86Wv3DD1HB0ELdag2P61uqNHS' \n",
    "headers = {'Content-Type':'application/json', 'Authorization':('Bearer '+ api_key)}\n",
    "\n",
    "req = urllib.request.Request(url, body, headers)\n",
    "\n",
    "try:\n",
    "    response = urllib.request.urlopen(req)\n",
    "\n",
    "    result = response.read()\n",
    "    result = result.decode('utf8').replace(\"'\", '\"')\n",
    "    predict = json.loads(result)\n",
    "    print(predict)\n",
    "except urllib.error.HTTPError as error:\n",
    "    print(\"The request failed with status code: \" + str(error.code))\n",
    "\n",
    "    # Print the headers - they include the requert ID and the timestamp, which are useful for debugging the failure\n",
    "    print(error.info())\n",
    "    print(json.loads(error.read().decode(\"utf8\", 'ignore')))\n",
    "\n"
   ]
  },
  {
   "cell_type": "markdown",
   "metadata": {
    "collapsed": true,
    "gather": {
     "logged": 1598432765711
    },
    "jupyter": {
     "outputs_hidden": false,
     "source_hidden": false
    },
    "nteract": {
     "transient": {
      "deleting": false
     }
    }
   },
   "source": [
    "TODO: In the cell below, print the logs of the web service and delete the service"
   ]
  },
  {
   "cell_type": "code",
   "execution_count": 38,
   "metadata": {
    "gather": {
     "logged": 1640160452127
    },
    "jupyter": {
     "outputs_hidden": false,
     "source_hidden": false
    },
    "nteract": {
     "transient": {
      "deleting": false
     }
    }
   },
   "outputs": [
    {
     "name": "stdout",
     "output_type": "stream",
     "text": [
      "2021-12-22T07:19:33,069843700+00:00 - gunicorn/run \n",
      "2021-12-22T07:19:33,072621700+00:00 - iot-server/run \n",
      "2021-12-22T07:19:33,071486400+00:00 - rsyslog/run \n",
      "Dynamic Python package installation is disabled.\n",
      "Starting HTTP server\n",
      "2021-12-22T07:19:33,113345900+00:00 - nginx/run \n",
      "rsyslogd: /azureml-envs/azureml_bec455c772c2d018a0dc9c15319d853a/lib/libuuid.so.1: no version information available (required by rsyslogd)\n",
      "EdgeHubConnectionString and IOTEDGE_IOTHUBHOSTNAME are not set. Exiting...\n",
      "2021-12-22T07:19:33,496979700+00:00 - iot-server/finish 1 0\n",
      "2021-12-22T07:19:33,499806600+00:00 - Exit code 1 is normal. Not restarting iot-server.\n",
      "Starting gunicorn 20.1.0\n",
      "Listening at: http://127.0.0.1:31311 (72)\n",
      "Using worker: sync\n",
      "worker timeout is set to 300\n",
      "Booting worker with pid: 100\n",
      "SPARK_HOME not set. Skipping PySpark Initialization.\n",
      "Generating new fontManager, this may take some time...\n",
      "Initializing logger\n",
      "2021-12-22 07:19:36,059 | root | INFO | Starting up app insights client\n",
      "logging socket was found. logging is available.\n",
      "logging socket was found. logging is available.\n",
      "2021-12-22 07:19:36,059 | root | INFO | Starting up request id generator\n",
      "2021-12-22 07:19:36,059 | root | INFO | Starting up app insight hooks\n",
      "2021-12-22 07:19:36,059 | root | INFO | Invoking user's init function\n",
      "2021-12-22 07:19:39,846 | azureml.core | WARNING | Failure while loading azureml_run_type_providers. Failed to load entrypoint hyperdrive = azureml.train.hyperdrive:HyperDriveRun._from_run_dto with exception (cryptography 36.0.1 (/azureml-envs/azureml_bec455c772c2d018a0dc9c15319d853a/lib/python3.6/site-packages), Requirement.parse('cryptography!=1.9,!=2.0.*,!=2.1.*,!=2.2.*,<4.0.0'), {'azureml-core'}).\n",
      "Failure while loading azureml_run_type_providers. Failed to load entrypoint hyperdrive = azureml.train.hyperdrive:HyperDriveRun._from_run_dto with exception (cryptography 36.0.1 (/azureml-envs/azureml_bec455c772c2d018a0dc9c15319d853a/lib/python3.6/site-packages), Requirement.parse('cryptography!=1.9,!=2.0.*,!=2.1.*,!=2.2.*,<4.0.0'), {'azureml-core'}).\n",
      "2021-12-22 07:19:39,898 | azureml.core | WARNING | Failure while loading azureml_run_type_providers. Failed to load entrypoint automl = azureml.train.automl.run:AutoMLRun._from_run_dto with exception (cryptography 36.0.1 (/azureml-envs/azureml_bec455c772c2d018a0dc9c15319d853a/lib/python3.6/site-packages), Requirement.parse('cryptography!=1.9,!=2.0.*,!=2.1.*,!=2.2.*,<4.0.0'), {'azureml-core'}).\n",
      "Failure while loading azureml_run_type_providers. Failed to load entrypoint automl = azureml.train.automl.run:AutoMLRun._from_run_dto with exception (cryptography 36.0.1 (/azureml-envs/azureml_bec455c772c2d018a0dc9c15319d853a/lib/python3.6/site-packages), Requirement.parse('cryptography!=1.9,!=2.0.*,!=2.1.*,!=2.2.*,<4.0.0'), {'azureml-core'}).\n",
      "2021-12-22 07:19:39,907 | azureml.core | WARNING | Failure while loading azureml_run_type_providers. Failed to load entrypoint azureml.scriptrun = azureml.core.script_run:ScriptRun._from_run_dto with exception (cryptography 36.0.1 (/azureml-envs/azureml_bec455c772c2d018a0dc9c15319d853a/lib/python3.6/site-packages), Requirement.parse('cryptography!=1.9,!=2.0.*,!=2.1.*,!=2.2.*,<4.0.0')).\n",
      "Failure while loading azureml_run_type_providers. Failed to load entrypoint azureml.scriptrun = azureml.core.script_run:ScriptRun._from_run_dto with exception (cryptography 36.0.1 (/azureml-envs/azureml_bec455c772c2d018a0dc9c15319d853a/lib/python3.6/site-packages), Requirement.parse('cryptography!=1.9,!=2.0.*,!=2.1.*,!=2.2.*,<4.0.0')).\n",
      "model initialized07:19:40\n",
      "no request id,model initialized07:19:40\n",
      "\n",
      "2021-12-22 07:19:40,519 | root | INFO | Users's init has completed successfully\n",
      "2021-12-22 07:19:40,526 | root | INFO | Skipping middleware: dbg_model_info as it's not enabled.\n",
      "2021-12-22 07:19:40,528 | root | INFO | Skipping middleware: dbg_resource_usage as it's not enabled.\n",
      "Generating swagger file: /tmp/tmpxp3j2mi_\n",
      "2021-12-22 07:19:40,534 | root | INFO | Scoring timeout is found from os.environ: 60000 ms\n",
      "2021-12-22 07:19:42,326 | root | INFO | 200\n",
      "127.0.0.1 - - [22/Dec/2021:07:19:42 +0000] \"GET /swagger.json HTTP/1.0\" 200 2954 \"-\" \"Go-http-client/1.1\"\n",
      "2021-12-22 07:19:43,561 | root | INFO | 200\n",
      "127.0.0.1 - - [22/Dec/2021:07:19:43 +0000] \"GET /swagger.json HTTP/1.0\" 200 2954 \"-\" \"Go-http-client/1.1\"\n",
      "2021-12-22 07:20:08,366 | root | INFO | 200\n",
      "127.0.0.1 - - [22/Dec/2021:07:20:08 +0000] \"GET /swagger.json HTTP/1.0\" 200 2954 \"-\" \"Go-http-client/1.1\"\n",
      "2021-12-22 07:20:15,420 | root | INFO | 200\n",
      "127.0.0.1 - - [22/Dec/2021:07:20:15 +0000] \"GET /swagger.json HTTP/1.0\" 200 2954 \"-\" \"Go-http-client/1.1\"\n",
      "2021-12-22 07:21:02,114 | root | INFO | Validation Request Content-Type\n",
      "2021-12-22 07:21:02,115 | root | INFO | Scoring Timer is set to 60.0 seconds\n",
      "2021-12-22 07:21:02,270 | root | INFO | 200\n",
      "127.0.0.1 - - [22/Dec/2021:07:21:02 +0000] \"POST /score HTTP/1.0\" 200 53 \"-\" \"Python-urllib/3.6\"\n",
      "2021-12-22 07:22:04,349 | root | INFO | Validation Request Content-Type\n",
      "2021-12-22 07:22:04,349 | root | INFO | Scoring Timer is set to 60.0 seconds\n",
      "2021-12-22 07:22:04,495 | root | INFO | 200\n",
      "127.0.0.1 - - [22/Dec/2021:07:22:04 +0000] \"POST /score HTTP/1.0\" 200 53 \"-\" \"Python-urllib/3.6\"\n",
      "2021-12-22 07:22:15,680 | root | INFO | Validation Request Content-Type\n",
      "2021-12-22 07:22:15,681 | root | INFO | Scoring Timer is set to 60.0 seconds\n",
      "2021-12-22 07:22:15,818 | root | INFO | 200\n",
      "127.0.0.1 - - [22/Dec/2021:07:22:15 +0000] \"POST /score HTTP/1.0\" 200 53 \"-\" \"Python-urllib/3.6\"\n",
      "2021-12-22 07:22:35,783 | root | INFO | 200\n",
      "127.0.0.1 - - [22/Dec/2021:07:22:35 +0000] \"GET /swagger.json HTTP/1.0\" 200 2954 \"-\" \"Go-http-client/1.1\"\n",
      "2021-12-22 07:25:11,079 | root | INFO | Validation Request Content-Type\n",
      "2021-12-22 07:25:11,082 | root | INFO | Scoring Timer is set to 60.0 seconds\n",
      "2021-12-22 07:25:11,239 | root | INFO | 200\n",
      "127.0.0.1 - - [22/Dec/2021:07:25:11 +0000] \"POST /score HTTP/1.0\" 200 53 \"-\" \"Python-urllib/3.6\"\n",
      "2021-12-22 07:27:55,009 | root | INFO | Validation Request Content-Type\n",
      "2021-12-22 07:27:55,011 | root | INFO | Scoring Timer is set to 60.0 seconds\n",
      "2021-12-22 07:27:55,163 | root | INFO | 200\n",
      "127.0.0.1 - - [22/Dec/2021:07:27:55 +0000] \"POST /score HTTP/1.0\" 200 53 \"-\" \"Python-urllib/3.6\"\n",
      "2021-12-22 07:28:25,698 | root | INFO | Validation Request Content-Type\n",
      "2021-12-22 07:28:25,702 | root | INFO | Scoring Timer is set to 60.0 seconds\n",
      "2021-12-22 07:28:25,878 | root | INFO | 200\n",
      "127.0.0.1 - - [22/Dec/2021:07:28:25 +0000] \"POST /score HTTP/1.0\" 200 53 \"-\" \"Python-urllib/3.6\"\n",
      "2021-12-22 07:36:09,483 | root | INFO | Validation Request Content-Type\n",
      "2021-12-22 07:36:09,486 | root | INFO | Scoring Timer is set to 60.0 seconds\n",
      "2021-12-22 07:36:09,653 | root | INFO | 200\n",
      "127.0.0.1 - - [22/Dec/2021:07:36:09 +0000] \"POST /score HTTP/1.0\" 200 53 \"-\" \"Python-urllib/3.6\"\n",
      "2021-12-22 07:51:29,950 | root | INFO | Validation Request Content-Type\n",
      "2021-12-22 07:51:29,952 | root | INFO | Scoring Timer is set to 60.0 seconds\n",
      "2021-12-22 07:51:30,128 | root | INFO | 200\n",
      "127.0.0.1 - - [22/Dec/2021:07:51:30 +0000] \"POST /score HTTP/1.0\" 200 53 \"-\" \"Python-urllib/3.6\"\n",
      "2021-12-22 07:53:28,467 | root | INFO | 200\n",
      "127.0.0.1 - - [22/Dec/2021:07:53:28 +0000] \"GET /swagger.json HTTP/1.0\" 200 2954 \"-\" \"Go-http-client/1.1\"\n",
      "2021-12-22 08:01:23,459 | root | INFO | Validation Request Content-Type\n",
      "2021-12-22 08:01:23,462 | root | INFO | Scoring Timer is set to 60.0 seconds\n",
      "2021-12-22 08:01:23,634 | root | INFO | 200\n",
      "127.0.0.1 - - [22/Dec/2021:08:01:23 +0000] \"POST /score HTTP/1.0\" 200 53 \"-\" \"Python-urllib/3.6\"\n",
      "2021-12-22 08:03:01,743 | root | INFO | 200\n",
      "127.0.0.1 - - [22/Dec/2021:08:03:01 +0000] \"GET /swagger.json HTTP/1.0\" 200 2954 \"-\" \"Go-http-client/1.1\"\n",
      "2021-12-22 08:06:56,117 | root | INFO | 200\n",
      "127.0.0.1 - - [22/Dec/2021:08:06:56 +0000] \"GET /swagger.json HTTP/1.0\" 200 2954 \"-\" \"Go-http-client/1.1\"\n",
      "2021-12-22 08:07:14,415 | root | INFO | Validation Request Content-Type\n",
      "2021-12-22 08:07:14,417 | root | INFO | Scoring Timer is set to 60.0 seconds\n",
      "2021-12-22 08:07:14,593 | root | INFO | 200\n",
      "127.0.0.1 - - [22/Dec/2021:08:07:14 +0000] \"POST /score HTTP/1.0\" 200 53 \"-\" \"Python-urllib/3.6\"\n",
      "\n"
     ]
    }
   ],
   "source": [
    "print(service.get_logs())"
   ]
  },
  {
   "cell_type": "code",
   "execution_count": 47,
   "metadata": {
    "gather": {
     "logged": 1639393663944
    },
    "jupyter": {
     "outputs_hidden": false,
     "source_hidden": false
    },
    "nteract": {
     "transient": {
      "deleting": false
     }
    }
   },
   "outputs": [],
   "source": [
    "service.delete()"
   ]
  },
  {
   "cell_type": "markdown",
   "metadata": {},
   "source": [
    "**Submission Checklist**\n",
    "- I have registered the model.\n",
    "- I have deployed the model with the best accuracy as a webservice.\n",
    "- I have tested the webservice by sending a request to the model endpoint.\n",
    "- I have deleted the webservice and shutdown all the computes that I have used.\n",
    "- I have taken a screenshot showing the model endpoint as active.\n",
    "- The project includes a file containing the environment details.\n"
   ]
  },
  {
   "cell_type": "markdown",
   "metadata": {},
   "source": []
  }
 ],
 "metadata": {
  "kernel_info": {
   "name": "python3"
  },
  "kernelspec": {
   "display_name": "Python 3",
   "language": "python",
   "name": "python3"
  },
  "language_info": {
   "codemirror_mode": {
    "name": "ipython",
    "version": 3
   },
   "file_extension": ".py",
   "mimetype": "text/x-python",
   "name": "python",
   "nbconvert_exporter": "python",
   "pygments_lexer": "ipython3",
   "version": "3.7.10"
  },
  "microsoft": {
   "host": {
    "AzureML": {
     "notebookHasBeenCompleted": true
    }
   }
  },
  "nteract": {
   "version": "nteract-front-end@1.0.0"
  }
 },
 "nbformat": 4,
 "nbformat_minor": 2
}
